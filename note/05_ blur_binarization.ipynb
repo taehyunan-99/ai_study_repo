{
 "cells": [
  {
   "cell_type": "markdown",
   "id": "16a91cb6",
   "metadata": {},
   "source": [
    "# 05. 블러와 이진화"
   ]
  },
  {
   "cell_type": "code",
   "execution_count": null,
   "id": "d1f063de",
   "metadata": {},
   "outputs": [],
   "source": [
    "import cv2 as cv\n",
    "import numpy as np\n",
    "DOG_PATH = \"../images/dog.jpg\"\n",
    "BOOK_PATH = \"../images/book.jpg\""
   ]
  },
  {
   "cell_type": "markdown",
   "id": "a1a94111",
   "metadata": {},
   "source": [
    "## 5-1. 블러\n",
    "- 이미지를 흐리게 하는 효과\n",
    "- ```cv2.blur(img, kernel)``` : 단순 평균 방식\n",
    "    - kernel : 블러값을 계산하기 위한 영역\n",
    "- ```cv2.GaussianBlur(img, kernel, 표준편차)``` : 가우시안 평균 방식\n",
    "    - 표준편차에 0 넣으면 자동 계산\n",
    "- ```cv2.medianBlur(img, kernel)``` : 중앙값 사용 방식"
   ]
  },
  {
   "cell_type": "code",
   "execution_count": null,
   "id": "78b26561",
   "metadata": {},
   "outputs": [],
   "source": [
    "img = cv.imread(DOG_PATH)\n",
    "\n",
    "# 평균 블러\n",
    "blur_avg = cv.blur(img, (5,5))\n",
    "\n",
    "# 가우시안 블러\n",
    "blur_gaussian = cv.GaussianBlur(img, (5,5), 0)\n",
    "\n",
    "cv.imshow(\"Blur\", blur_avg)\n",
    "cv.imshow(\"Gaussian\", blur_gaussian)\n",
    "\n",
    "cv.waitKey(0)\n",
    "cv.destroyAllWindows()\n",
    "cv.waitKey(1)"
   ]
  },
  {
   "cell_type": "code",
   "execution_count": null,
   "id": "e28a8bc0",
   "metadata": {},
   "outputs": [],
   "source": [
    "# 커널 사이즈 변화에 따른 차이\n",
    "\n",
    "img = cv.imread(DOG_PATH)\n",
    "\n",
    "kernel_3 = cv.GaussianBlur(img, (3,3), 0)\n",
    "kernel_5 = cv.GaussianBlur(img, (5,5), 0)\n",
    "kernel_7 = cv.GaussianBlur(img, (7,7), 0)\n",
    "\n",
    "cv.imshow(\"kernel_3\", kernel_3)\n",
    "cv.imshow(\"kernel_5\", kernel_5)\n",
    "cv.imshow(\"kernel_7\", kernel_7)\n",
    "\n",
    "cv.waitKey(0)\n",
    "cv.destroyAllWindows()\n",
    "cv.waitKey(1)"
   ]
  },
  {
   "cell_type": "code",
   "execution_count": null,
   "id": "b5c062cf",
   "metadata": {},
   "outputs": [],
   "source": [
    "# 표준편차 변화에 따른 차이\n",
    "\n",
    "img = cv.imread(DOG_PATH)\n",
    "\n",
    "sigma_1 = cv.GaussianBlur(img, (0,0), 1)\n",
    "sigma_2 = cv.GaussianBlur(img, (0,0), 2)\n",
    "sigma_3 = cv.GaussianBlur(img, (0,0), 3)\n",
    "\n",
    "cv.imshow(\"sigma_1\", sigma_1)\n",
    "cv.imshow(\"sigma_2\", sigma_2)\n",
    "cv.imshow(\"sigma_3\", sigma_3)\n",
    "\n",
    "cv.waitKey(0)\n",
    "cv.destroyAllWindows()\n",
    "cv.waitKey(1)"
   ]
  },
  {
   "cell_type": "markdown",
   "id": "aea46856",
   "metadata": {},
   "source": [
    "## 5-2. 이진화(Binarization)\n",
    "- 특정 값을 기준으로 픽셀의 값을 0(검은색)또는 255(흰색)로 분류하는 것\n",
    "- 분석을 단순화하기 위해 사용\n",
    "- 특정 관심 영역을 분리하는데 용이함\n",
    "\n",
    "### Threshold : 임계값, 문턱값\n",
    "- 기준값의 역할을 함\n",
    "- 빛의 밝기를 기준으로 픽셀 값을 변환\n",
    "- ```cv2.threshold(img, threshold, maxValue, type)```\n",
    "    - return / binary 값 반환\n",
    "    - return = threshold 값\n",
    "    - binary = 이미지"
   ]
  },
  {
   "cell_type": "code",
   "execution_count": null,
   "id": "5fbb4dc1",
   "metadata": {},
   "outputs": [],
   "source": [
    "img = cv.imread(BOOK_PATH, cv.IMREAD_GRAYSCALE)\n",
    "\n",
    "ret, binary = cv.threshold(img, 127, 255, cv.THRESH_BINARY)\n",
    "\n",
    "cv.imshow(\"img\", img)\n",
    "cv.imshow(\"binary\", binary)\n",
    "\n",
    "cv.waitKey(0)\n",
    "cv.destroyAllWindows()\n",
    "cv.waitKey(1)"
   ]
  },
  {
   "cell_type": "markdown",
   "id": "69b7c7b1",
   "metadata": {},
   "source": [
    "### 트랙바(Track bar)\n",
    "- ```cv2.createTrackbar(trackbarName, name, startValue, maxValue, callback)``` : 트랙바 생성\n",
    "- ```cv2.getTrackbarPos(trackbarName, name)``` : 트랙바의 값을 가져옴"
   ]
  },
  {
   "cell_type": "code",
   "execution_count": 11,
   "id": "be983995",
   "metadata": {},
   "outputs": [
    {
     "data": {
      "text/plain": [
       "-1"
      ]
     },
     "execution_count": 11,
     "metadata": {},
     "output_type": "execute_result"
    }
   ],
   "source": [
    "img = cv.imread(BOOK_PATH, cv.IMREAD_GRAYSCALE)\n",
    "\n",
    "# 트랙바 생성 이전에 창이 만들어져 있어야함\n",
    "name = \"Threshold\"\n",
    "cv.namedWindow(name)\n",
    "\n",
    "# 트랙바 생성\n",
    "trackbar_name = \"threshold\"\n",
    "cv.createTrackbar(trackbar_name, name, 127, 255, lambda x:x)\n",
    "\n",
    "while True:\n",
    "    threshold = cv.getTrackbarPos(trackbar_name, name)\n",
    "    ret, binary = cv.threshold(img, threshold, 255, cv.THRESH_BINARY)\n",
    "\n",
    "    cv.imshow(name, binary)\n",
    "\n",
    "    if cv.waitKey(1) == ord(\"q\"):\n",
    "        break\n",
    "\n",
    "cv.destroyAllWindows()\n",
    "cv.waitKey(1)"
   ]
  },
  {
   "cell_type": "code",
   "execution_count": null,
   "id": "a42a9cdd",
   "metadata": {},
   "outputs": [],
   "source": [
    "img = cv.imread(DOG_PATH)\n",
    "\n",
    "name = \"Resize\"\n",
    "cv.namedWindow(name)\n",
    "\n",
    "trackbar_name = \"scale(%)\"\n",
    "cv.createTrackbar(trackbar_name, name, 100, 200, lambda x:x)\n",
    "\n",
    "while True:\n",
    "    scale = cv.getTrackbarPos(trackbar_name, name)\n",
    "    \n",
    "    if scale == 0:\n",
    "        scale = 1\n",
    "\n",
    "    width = int(img.shape[1] * scale / 100)\n",
    "    height = int(img.shape[0] * scale / 100)\n",
    "    resized = cv.resize(img, (width, height))\n",
    "\n",
    "    cv.imshow(name, resized)\n",
    "\n",
    "    if cv.waitKey(1) == ord(\"q\"):\n",
    "        break\n",
    "\n",
    "cv.destroyAllWindows()\n",
    "cv.waitKey(1)"
   ]
  },
  {
   "cell_type": "code",
   "execution_count": null,
   "id": "7cbd5f98",
   "metadata": {},
   "outputs": [],
   "source": [
    "# 실습2-2. 컬러 팔레트 만들기\n",
    "\n",
    "img = np.zeros((460, 640, 3), dtype=np.uint8)\n",
    "\n",
    "name = \"COLOR\"\n",
    "cv.namedWindow(name)\n",
    "\n",
    "cv.createTrackbar(\"B\", name, 0, 255, lambda x:x)\n",
    "cv.createTrackbar(\"G\", name, 0, 255, lambda x:x)\n",
    "cv.createTrackbar(\"R\", name, 0, 255, lambda x:x)\n",
    "\n",
    "trackbar_name = \"0:OFF\\n1:ON\"\n",
    "cv.createTrackbar(trackbar_name, name, 1, 1, lambda x:x)\n",
    "\n",
    "while True:\n",
    "    B = cv.getTrackbarPos(\"B\", name)\n",
    "    G = cv.getTrackbarPos(\"G\", name)\n",
    "    R = cv.getTrackbarPos(\"R\", name)\n",
    "\n",
    "    switch = cv.getTrackbarPos(trackbar_name, name)\n",
    "    if switch == 1:\n",
    "        img[:] = (B,G,R)\n",
    "\n",
    "    cv.imshow(name, img)\n",
    "\n",
    "    if cv.waitKey(1) == ord(\"q\"):\n",
    "        break\n",
    "\n",
    "cv.destroyAllWindows()\n",
    "cv.waitKey(1)"
   ]
  },
  {
   "cell_type": "markdown",
   "id": "22660c15",
   "metadata": {},
   "source": [
    "## 5-3. 적응형 이진화\n",
    "- 영역별로 서로 다른 임계값을 적용하는 이진화\n",
    "- ```cv2.adaptiveThreshold(img, maxValue, adaptiveMethod, thresholdType, blockSize, C)```\n",
    "    - adaptiveMethod : 적응형 임계값 알고리즘\n",
    "    - blockSize : 픽셀의 임계값을 계산하는 데 사용되는 픽셀 근처의 크기(1보다 큰 홀수)\n",
    "    - C : 평균 또는 가중 평균에서 뺀 상수 (임계값 미세 조정)"
   ]
  },
  {
   "cell_type": "code",
   "execution_count": 14,
   "id": "b6d8f4e0",
   "metadata": {},
   "outputs": [
    {
     "data": {
      "text/plain": [
       "-1"
      ]
     },
     "execution_count": 14,
     "metadata": {},
     "output_type": "execute_result"
    }
   ],
   "source": [
    "img = cv.imread(BOOK_PATH, cv.IMREAD_GRAYSCALE)\n",
    "\n",
    "name = \"Adaptive Threshold\"\n",
    "cv.namedWindow(name)\n",
    "\n",
    "cv.createTrackbar(\"block_size\", name, 25, 100, lambda x:x) \n",
    "cv.createTrackbar(\"C\", name, 1, 10, lambda x:x)\n",
    "\n",
    "while True:\n",
    "    block_size = cv.getTrackbarPos(\"block_size\", name)\n",
    "    C = cv.getTrackbarPos(\"C\", name)\n",
    "\n",
    "    if block_size <= 1:\n",
    "        block_size = 3\n",
    "    \n",
    "    if block_size % 2 == 0:\n",
    "        block_size += 1\n",
    "\n",
    "    binary = cv.adaptiveThreshold(img, 255, cv.ADAPTIVE_THRESH_MEAN_C, cv.THRESH_BINARY, block_size, C)\n",
    "\n",
    "    cv.imshow(name, binary)\n",
    "\n",
    "    if cv.waitKey(1) == ord(\"q\"):\n",
    "        break\n",
    "\n",
    "cv.destroyAllWindows()\n",
    "cv.waitKey(1)"
   ]
  },
  {
   "cell_type": "markdown",
   "id": "42283168",
   "metadata": {},
   "source": [
    "## 5-4. 오츠 알고리즘\n",
    "- 최적의 threshold를 찾는 알고리즘\n",
    "- 각 그룹 내부의 분산(값의 퍼짐)을 최소화하는 임계값을 찾는 것을 목표로 함"
   ]
  },
  {
   "cell_type": "code",
   "execution_count": 17,
   "id": "16b0d2bd",
   "metadata": {},
   "outputs": [
    {
     "name": "stdout",
     "output_type": "stream",
     "text": [
      "127.0 120.0\n"
     ]
    },
    {
     "data": {
      "text/plain": [
       "-1"
      ]
     },
     "execution_count": 17,
     "metadata": {},
     "output_type": "execute_result"
    }
   ],
   "source": [
    "img = cv.imread(DOG_PATH, cv.IMREAD_GRAYSCALE)\n",
    "\n",
    "ret_1, binary = cv.threshold(img, 127, 255, cv.THRESH_BINARY)\n",
    "ret_2, otsu = cv.threshold(img, -1, 255, cv.THRESH_BINARY | cv.THRESH_OTSU)\n",
    "\n",
    "print(ret_1, ret_2)\n",
    "\n",
    "cv.imshow(\"img\", binary)\n",
    "cv.imshow(\"otsu\", otsu)\n",
    "\n",
    "cv.waitKey(0)\n",
    "cv.destroyAllWindows()\n",
    "cv.waitKey(1)"
   ]
  }
 ],
 "metadata": {
  "kernelspec": {
   "display_name": "cv_study",
   "language": "python",
   "name": "python3"
  },
  "language_info": {
   "codemirror_mode": {
    "name": "ipython",
    "version": 3
   },
   "file_extension": ".py",
   "mimetype": "text/x-python",
   "name": "python",
   "nbconvert_exporter": "python",
   "pygments_lexer": "ipython3",
   "version": "3.13.5"
  }
 },
 "nbformat": 4,
 "nbformat_minor": 5
}
