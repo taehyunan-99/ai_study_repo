{
 "cells": [
  {
   "cell_type": "markdown",
   "id": "9a21442b",
   "metadata": {},
   "source": [
    "# 03. 이미지 기본 조작"
   ]
  },
  {
   "cell_type": "code",
   "execution_count": null,
   "id": "6c7440cc",
   "metadata": {},
   "outputs": [],
   "source": [
    "import cv2 as cv\n",
    "import numpy as np"
   ]
  },
  {
   "cell_type": "code",
   "execution_count": null,
   "id": "c6a1e1ee",
   "metadata": {},
   "outputs": [],
   "source": [
    "DOG_PATH = \"../images/dog.jpg\""
   ]
  },
  {
   "cell_type": "markdown",
   "id": "521fa3b5",
   "metadata": {},
   "source": [
    "### 3-1. 빈 화면 만들기\n",
    "- Numpy 배열로 이미지를 출력할 수 있음\n",
    "- 데이터 타입을 uint8로 설정\n",
    "    - uint = Unsinged Integer -> 부호가 없는 정수 = 0, 양수\n",
    "    - 0 ~ 255까지 표현할 수 있는 수"
   ]
  },
  {
   "cell_type": "code",
   "execution_count": null,
   "id": "364432d3",
   "metadata": {},
   "outputs": [],
   "source": [
    "# 검은 화면 만들기\n",
    "img = np.zeros((460, 640, 3), dtype=np.uint8)\n",
    "\n",
    "cv.imshow(\"Black\", img)\n",
    "\n",
    "cv.waitKey(0)\n",
    "cv.destroyAllWindows()\n",
    "cv.waitKey(1)"
   ]
  },
  {
   "cell_type": "markdown",
   "id": "323c5e06",
   "metadata": {},
   "source": [
    "### 3-2. 일부 영역 색칠"
   ]
  },
  {
   "cell_type": "code",
   "execution_count": null,
   "id": "71ab8e60",
   "metadata": {},
   "outputs": [],
   "source": [
    "# 화면 일부 색칠하기\n",
    "# OpenCV = B G R 순서\n",
    "img = np.zeros((460, 640, 3), dtype=np.uint8)\n",
    "\n",
    "img[200:300, 300:400] = (0,0,255)\n",
    "img[:] = (255,255,255)\n",
    "\n",
    "cv.imshow(\"Color\", img)\n",
    "\n",
    "cv.waitKey(0)\n",
    "cv.destroyAllWindows()\n",
    "cv.waitKey(1)"
   ]
  },
  {
   "cell_type": "code",
   "execution_count": null,
   "id": "2256fe31",
   "metadata": {},
   "outputs": [],
   "source": [
    "# 이미지에 색칙하기\n",
    "DOG_PATH = \"../images/dog.jpg\"\n",
    "\n",
    "img = cv.imread(DOG_PATH)\n",
    "\n",
    "img[200:300, 300:400] = (0,0,255)\n",
    "\n",
    "cv.imshow(\"Photo\", img)\n",
    "\n",
    "cv.waitKey(0)\n",
    "cv.destroyAllWindows()\n",
    "cv.waitKey(1)"
   ]
  },
  {
   "cell_type": "code",
   "execution_count": null,
   "id": "61a082e6",
   "metadata": {},
   "outputs": [],
   "source": [
    "# 이미지 자르기\n",
    "img = cv.imread(DOG_PATH)\n",
    "\n",
    "crop = img[70:320, 300:450].copy()\n",
    "img[0:250, 0:150] = crop\n",
    "\n",
    "cv.imshow(\"img\", img)\n",
    "cv.imshow(\"Cropped\", crop)\n",
    "\n",
    "cv.waitKey(0)\n",
    "cv.destroyAllWindows()\n",
    "cv.waitKey(1)"
   ]
  },
  {
   "cell_type": "markdown",
   "id": "736552f4",
   "metadata": {},
   "source": [
    "### 3-3. 얕은 복사 깊은 복사\n",
    "- 얕은 복사 : 메모리 연결(참조) 유지 (서로의 변경 사항을 공유)\n",
    "- 깊은 복사 : 메모리 연결(참조) 해제 (완전 복사)"
   ]
  },
  {
   "cell_type": "code",
   "execution_count": null,
   "id": "794b9745",
   "metadata": {},
   "outputs": [],
   "source": [
    "img = np.zeros((460, 640, 3), dtype=np.uint8)\n",
    "\n",
    "# 얕은 복사\n",
    "shallow_copy = img[200:300, 300:400]\n",
    "shallow_copy[:] = (255,0,255)\n",
    "\n",
    "# 깊은 복사\n",
    "deep_copy = img[200:300, 300:400].copy()\n",
    "deep_copy[:] = (255,255,0)\n",
    "\n",
    "cv.imshow(\"original\", img)\n",
    "cv.imshow(\"shalliw copy\", shallow_copy)\n",
    "cv.imshow(\"deep copy\", deep_copy)\n",
    "\n",
    "cv.waitKey(0)\n",
    "cv.destroyAllWindows()\n",
    "cv.waitKey(1)"
   ]
  },
  {
   "cell_type": "markdown",
   "id": "0cc208ed",
   "metadata": {},
   "source": [
    "### 3-4. 색상 변경\n",
    "- ```cv2.cvtColor(img, code)```"
   ]
  },
  {
   "cell_type": "code",
   "execution_count": null,
   "id": "3b6ec84d",
   "metadata": {},
   "outputs": [],
   "source": [
    "img = cv.imread(DOG_PATH)\n",
    "\n",
    "gray = cv.cvtColor(img, cv.COLOR_BGR2GRAY)\n",
    "rgb = cv.cvtColor(img, cv.COLOR_BGR2RGB)\n",
    "\n",
    "cv.imshow(\"img\", img)\n",
    "cv.imshow(\"gray\", gray)\n",
    "cv.imshow(\"rgb\", rgb)\n",
    "\n",
    "cv.waitKey(0)\n",
    "cv.destroyAllWindows()\n",
    "cv.waitKey(1)"
   ]
  },
  {
   "cell_type": "code",
   "execution_count": null,
   "id": "d4a84117",
   "metadata": {},
   "outputs": [],
   "source": [
    "# 색상 반전\n",
    "img = cv.imread(DOG_PATH)\n",
    "gray = cv.cvtColor(img, cv.COLOR_BGR2GRAY)\n",
    "\n",
    "inverted = 255 - gray\n",
    "\n",
    "cv.imshow(\"gray\", gray)\n",
    "cv.imshow(\"inverted\", inverted)\n",
    "\n",
    "cv.waitKey(0)\n",
    "cv.destroyAllWindows()\n",
    "cv.waitKey(1)"
   ]
  },
  {
   "cell_type": "markdown",
   "id": "ba1c6223",
   "metadata": {},
   "source": [
    "### 3-5. 이미지 채널 분리와 병합\n",
    "- ```cv2.split(img)``` : 이미지 채널 분리\n",
    "- ```cv2.merge(b,g,r)``` : 이미지 채널 병합"
   ]
  },
  {
   "cell_type": "code",
   "execution_count": null,
   "id": "d89b1bd2",
   "metadata": {},
   "outputs": [],
   "source": [
    "# 이미지 채널 분리\n",
    "img = cv.imread(DOG_PATH)\n",
    "b, g, r = cv.split(img)\n",
    "\n",
    "cv.imshow(\"Blue\", b)\n",
    "cv.imshow(\"Green\", g)\n",
    "cv.imshow(\"Red\", r)\n",
    "\n",
    "# 이미지 채널 병합\n",
    "merged = cv.merge([b,g,r])\n",
    "\n",
    "cv.imshow(\"Merged\", merged)\n",
    "\n",
    "cv.waitKey(0)\n",
    "cv.destroyAllWindows()\n",
    "cv.waitKey(1)"
   ]
  },
  {
   "cell_type": "markdown",
   "id": "103355d0",
   "metadata": {},
   "source": [
    "### 3-6. 이미지 리사이즈\n",
    "- ```cv2.resize(img, (size), fx, fy, interpolation)```\n",
    "    - (size) : 사이즈를 직접 입력할 경우\n",
    "    - fx, fy : 비율로 사이즈를 조정할 경우\n",
    "    - interpolation : 보간법 (이미지를 조정할 때 생기는 픽셀 사이의 빈 공간을 채우는 방법)"
   ]
  },
  {
   "cell_type": "code",
   "execution_count": null,
   "id": "4b090819",
   "metadata": {},
   "outputs": [],
   "source": [
    "img = cv.imread(DOG_PATH)\n",
    "img.shape\n",
    "\n",
    "dst = cv.resize(img, (1280, 800))\n",
    "near = cv.resize(img, None, fx=3, fy=3, interpolation=cv.INTER_NEAREST)\n",
    "cubic = cv.resize(img, None, fx=3, fy=3, interpolation=cv.INTER_CUBIC)\n",
    "\n",
    "cv.imshow(\"original\", img)\n",
    "cv.imshow(\"resized\", dst)\n",
    "cv.imshow(\"near\", near)\n",
    "cv.imshow(\"cubic\", cubic)\n",
    "\n",
    "cv.waitKey(0)\n",
    "cv.destroyAllWindows()\n",
    "cv.waitKey(1)"
   ]
  },
  {
   "cell_type": "code",
   "execution_count": null,
   "id": "7ee7ca75",
   "metadata": {},
   "outputs": [],
   "source": [
    "# 실습5. 영상 리사이즈 해서 출력\n",
    "DOG_VIDEO_PATH = \"../videos/dog.mp4\"\n",
    "\n",
    "cap = cv.VideoCapture(DOG_VIDEO_PATH)\n",
    "fps = cap.get(cv.CAP_PROP_FPS)\n",
    "\n",
    "while cap.isOpened():\n",
    "    ret, frame = cap.read()\n",
    "\n",
    "    if not ret:\n",
    "        break\n",
    "\n",
    "    dst = cv.resize(frame, None, fx=1.5, fy=1.5, interpolation=cv.INTER_CUBIC)\n",
    "\n",
    "    cv.imshow(\"Original Video\", frame)\n",
    "    cv.imshow(\"Resized Video\", dst)\n",
    "    \n",
    "    if cv.waitKey(int(1000/fps)) == ord(\"q\"):\n",
    "        break\n",
    "\n",
    "cap.release()\n",
    "cv.destroyAllWindows()\n",
    "cv.waitKey(1)"
   ]
  },
  {
   "cell_type": "markdown",
   "id": "f7ec78f7",
   "metadata": {},
   "source": [
    "### 3-7. 이미지 피라미드\n",
    "- 고정된 비율로 이미지를 확대/축소\n",
    "- 확대/축소시 가우시안 블러 처리를 통해 이미지를 부드럽게 변환\n",
    "- ```cv2.pyrUp(img)``` : 이미지를 2배 키움\n",
    "- ```cv2.pyrDown(img)``` : 이미지를 1/2로 줄임"
   ]
  },
  {
   "cell_type": "code",
   "execution_count": null,
   "id": "8c2e2c3c",
   "metadata": {},
   "outputs": [],
   "source": [
    "img = cv.imread(DOG_PATH)\n",
    "\n",
    "size_up = cv.pyrUp(img)\n",
    "size_down = cv.pyrDown(img)\n",
    "\n",
    "cv.imshow(\"original\", img)\n",
    "cv.imshow(\"Up\", size_up)\n",
    "cv.imshow(\"Down\", size_down)\n",
    "\n",
    "cv.waitKey(0)\n",
    "cv.destroyAllWindows()\n",
    "cv.waitKey(1)"
   ]
  },
  {
   "cell_type": "markdown",
   "id": "fc0aa388",
   "metadata": {},
   "source": [
    "### 3-8. 이미지 대칭\n",
    "- ```cv2.flip(img, code)```\n",
    "    - code : 대칭의 방향을 결정\n",
    "        - code > 0 : y축 반전(좌우반전)\n",
    "        - code == 0 : x축 반전(상하반전)\n",
    "        - code < 0 : x,y축 반전(상하좌우반전)"
   ]
  },
  {
   "cell_type": "code",
   "execution_count": null,
   "id": "848d92e3",
   "metadata": {},
   "outputs": [],
   "source": [
    "img = cv.imread(DOG_PATH)\n",
    "\n",
    "flip_y = cv.flip(img, 1)\n",
    "flip_x = cv.flip(img, 0)\n",
    "flip_xy = cv.flip(img, -1)\n",
    "\n",
    "cv.imshow(\"Original\", img)\n",
    "cv.imshow(\"Flip y\", flip_y)\n",
    "cv.imshow(\"Flip x\", flip_x)\n",
    "cv.imshow(\"Flip xy\", flip_xy)\n",
    "\n",
    "cv.waitKey(0)\n",
    "cv.destroyAllWindows()\n",
    "cv.waitKey(1)"
   ]
  },
  {
   "cell_type": "code",
   "execution_count": null,
   "id": "6a7ee728",
   "metadata": {},
   "outputs": [
    {
     "data": {
      "text/plain": [
       "-1"
      ]
     },
     "execution_count": 14,
     "metadata": {},
     "output_type": "execute_result"
    }
   ],
   "source": [
    "# 실습6. 이미지 조정\n",
    "PRACTICE_PATH = \"../images/practice.jpg\"\n",
    "\n",
    "img = cv.imread(PRACTICE_PATH)\n",
    "copied = img.copy()\n",
    "\n",
    "row = int(copied.shape[0] / 2)\n",
    "col = int(copied.shape[1] / 2)\n",
    "\n",
    "height = copied.shape[0] - row\n",
    "width = copied.shape[1] - col\n",
    "\n",
    "dst = cv.resize(copied, (width, height))\n",
    "flip = cv.flip(dst, 1)\n",
    "\n",
    "copied[row:, col:] = flip\n",
    "\n",
    "cv.imshow(\"img\", copied)\n",
    "\n",
    "cv.waitKey(0)\n",
    "cv.destroyAllWindows()\n",
    "cv.waitKey(1)"
   ]
  }
 ],
 "metadata": {
  "kernelspec": {
   "display_name": "cv_study",
   "language": "python",
   "name": "python3"
  },
  "language_info": {
   "codemirror_mode": {
    "name": "ipython",
    "version": 3
   },
   "file_extension": ".py",
   "mimetype": "text/x-python",
   "name": "python",
   "nbconvert_exporter": "python",
   "pygments_lexer": "ipython3",
   "version": "3.13.5"
  }
 },
 "nbformat": 4,
 "nbformat_minor": 5
}
