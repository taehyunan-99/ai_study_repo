{
 "cells": [
  {
   "cell_type": "markdown",
   "id": "9a21442b",
   "metadata": {},
   "source": [
    "# 03. 이미지 기본 조작"
   ]
  },
  {
   "cell_type": "code",
   "execution_count": 1,
   "id": "6c7440cc",
   "metadata": {},
   "outputs": [],
   "source": [
    "import cv2 as cv\n",
    "import numpy as np"
   ]
  },
  {
   "cell_type": "markdown",
   "id": "521fa3b5",
   "metadata": {},
   "source": [
    "### 3-1. 빈 화면 만들기\n",
    "- Numpy 배열로 이미지를 출력할 수 있음\n",
    "- 데이터 타입을 uint8로 설정\n",
    "    - uint = Unsinged Integer -> 부호가 없는 정수 = 0, 양수\n",
    "    - 0 ~ 255까지 표현할 수 있는 수"
   ]
  },
  {
   "cell_type": "code",
   "execution_count": 3,
   "id": "364432d3",
   "metadata": {},
   "outputs": [
    {
     "data": {
      "text/plain": [
       "-1"
      ]
     },
     "execution_count": 3,
     "metadata": {},
     "output_type": "execute_result"
    }
   ],
   "source": [
    "# 검은 화면 만들기\n",
    "img = np.zeros((460, 640, 3), dtype=np.uint8)\n",
    "\n",
    "cv.imshow(\"Black\", img)\n",
    "\n",
    "cv.waitKey(0)\n",
    "cv.destroyAllWindows()\n",
    "cv.waitKey(1)"
   ]
  }
 ],
 "metadata": {
  "kernelspec": {
   "display_name": "cv_study",
   "language": "python",
   "name": "python3"
  },
  "language_info": {
   "codemirror_mode": {
    "name": "ipython",
    "version": 3
   },
   "file_extension": ".py",
   "mimetype": "text/x-python",
   "name": "python",
   "nbconvert_exporter": "python",
   "pygments_lexer": "ipython3",
   "version": "3.13.7"
  }
 },
 "nbformat": 4,
 "nbformat_minor": 5
}
