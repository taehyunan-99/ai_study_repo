{
 "cells": [
  {
   "cell_type": "markdown",
   "id": "3fbf1741",
   "metadata": {},
   "source": [
    "# 02. 비디오 입력 출력 쓰기\n",
    "- 영상을 재생 한다는 건? : 연속된 이미지를 재생하는 것\n",
    "- frame : 연속된 이미지 중 하나\n",
    "    - fps : frame per second -> 1초에 몇 프레임을 재생할건지"
   ]
  },
  {
   "cell_type": "code",
   "execution_count": null,
   "id": "b54d2ba0",
   "metadata": {},
   "outputs": [],
   "source": [
    "import cv2 as cv\n",
    "DOG_VIDEO_PATH = \"../videos/dog.mp4\""
   ]
  },
  {
   "cell_type": "markdown",
   "id": "9d322f2d",
   "metadata": {},
   "source": [
    "## 2-1. 비디오 파일 입출력\n",
    "- ```cv2.VideoCapture(path)``` : path의 파일을 불러옴\n",
    "- ```VideoCapture.isOpened()``` : 파일이 열렸는지를 확인 (True/False)\n",
    "- ```VideoCapture.read()``` : 파일을 읽어서 frame을 반환\n",
    "    - ret : 프레임이 존재하는지 체크 (True/False)\n",
    "    - frame : 불러온 이미지\n",
    "- ```VideoCapture.release()``` : 영상 객체를 해제"
   ]
  },
  {
   "cell_type": "code",
   "execution_count": null,
   "id": "adf47a71",
   "metadata": {},
   "outputs": [],
   "source": [
    "# 비디오 출력시 반복문 활용\n",
    "cap = cv.VideoCapture(DOG_VIDEO_PATH)\n",
    "\n",
    "while cap.isOpened():\n",
    "    ret, frame = cap.read()\n",
    "\n",
    "    if not ret:\n",
    "        break\n",
    "    cv.imshow(\"Video\", frame)\n",
    "    \n",
    "    if cv.waitKey(10) == ord(\"q\"):\n",
    "        break\n",
    "\n",
    "cap.release()\n",
    "cv.destroyAllWindows()\n",
    "cv.waitKey(1)"
   ]
  },
  {
   "cell_type": "markdown",
   "id": "05869a0c",
   "metadata": {},
   "source": [
    "## 2-2. 영상의 프레임 불러오기\n",
    "- ```VideoCapture.get(cv2.CAP_PROP_FPS)```"
   ]
  },
  {
   "cell_type": "code",
   "execution_count": null,
   "id": "3ccd8e86",
   "metadata": {},
   "outputs": [],
   "source": [
    "cap = cv.VideoCapture(DOG_VIDEO_PATH)\n",
    "fps = cap.get(cv.CAP_PROP_FPS)\n",
    "# print(fps)\n",
    "\n",
    "while cap.isOpened():\n",
    "    ret, frame = cap.read()\n",
    "\n",
    "    if not ret:\n",
    "        break\n",
    "    cv.imshow(\"Video\", frame)\n",
    "    \n",
    "    if cv.waitKey(int(1000/fps)) == ord(\"q\"):\n",
    "        break\n",
    "\n",
    "cap.release()\n",
    "cv.destroyAllWindows()\n",
    "cv.waitKey(1)"
   ]
  },
  {
   "cell_type": "markdown",
   "id": "475230a4",
   "metadata": {},
   "source": [
    "## 2-3. 카메라 입출력"
   ]
  },
  {
   "cell_type": "code",
   "execution_count": null,
   "id": "92f667f6",
   "metadata": {},
   "outputs": [],
   "source": [
    "# 연결된 디바이스 중 0번째 불러오기\n",
    "cap = cv.VideoCapture(0)\n",
    "\n",
    "while cap.isOpened():\n",
    "    ret, frame = cap.read()\n",
    "\n",
    "    if not ret:\n",
    "        break\n",
    "    \n",
    "    cv.imshow(\"Camera\", frame)\n",
    "\n",
    "    if cv.waitKey(1) != -1: # 어떤 입력이든 주어지면\n",
    "        break\n",
    "\n",
    "cap.release()\n",
    "cv.destroyAllWindows()\n",
    "cv.waitKey(1)"
   ]
  },
  {
   "cell_type": "code",
   "execution_count": null,
   "id": "94cd6f42",
   "metadata": {},
   "outputs": [],
   "source": [
    "# 카메라 화면 캡쳐하기\n",
    "\n",
    "cap = cv.VideoCapture(0)\n",
    "count = 1\n",
    "\n",
    "while cap.isOpened():\n",
    "    ret, frame = cap.read()\n",
    "\n",
    "    if not ret:\n",
    "        break\n",
    "    \n",
    "    cv.imshow(\"Camera\", frame)\n",
    "\n",
    "    key = cv.waitKey(1)\n",
    "\n",
    "    if key == ord(\"c\"):\n",
    "        filename = f\"../output/capture_{count}.png\"\n",
    "        cv.imwrite(filename, frame)\n",
    "        print(f\"{filename.split(\"/\")[2]} 저장!\")\n",
    "        count += 1\n",
    "    elif key == ord(\"q\"):\n",
    "        break\n",
    "\n",
    "cap.release()\n",
    "cv.destroyAllWindows()\n",
    "cv.waitKey(1)"
   ]
  },
  {
   "cell_type": "code",
   "execution_count": null,
   "id": "62e19a9c",
   "metadata": {},
   "outputs": [],
   "source": [
    "# 카메라 화면 크기 조절\n",
    "\n",
    "cap = cv.VideoCapture(0)\n",
    "# cap.set(cv.CAP_PROP_FRAME_WIDTH, 320)\n",
    "# cap.set(cv.CAP_PROP_FRAME_HEIGHT, 240)\n",
    "\n",
    "while cap.isOpened():\n",
    "    ret, frame = cap.read()\n",
    "\n",
    "    if not ret:\n",
    "        break\n",
    "    \n",
    "    cv.imshow(\"Camera\", frame)\n",
    "\n",
    "    if cv.waitKey(1) != -1:\n",
    "        break\n",
    "\n",
    "cap.release()\n",
    "cv.destroyAllWindows()\n",
    "cv.waitKey(1)"
   ]
  },
  {
   "cell_type": "markdown",
   "id": "17d7ea83",
   "metadata": {},
   "source": [
    "## 2-4. 비디오 쓰기\n",
    "- ```cv2.VideoWriter(path, fourcc, fps, (width, height))``` : 영상을 파일로 쓰기위한 객체 생성\n",
    "- ```cv2.VideoWriter_fourcc(fourcc)``` : 영상을 쓰기위한 인코딩 생성\n",
    "    - fourcc : 영상의 인코딩 ex) H.264"
   ]
  },
  {
   "cell_type": "code",
   "execution_count": null,
   "id": "2980dd1e",
   "metadata": {},
   "outputs": [],
   "source": [
    "cap = cv.VideoCapture(DOG_VIDEO_PATH)\n",
    "\n",
    "# VideoWriter 생성\n",
    "fourcc = cv.VideoWriter_fourcc(*\"H264\")\n",
    "fps = cap.get(cv.CAP_PROP_FPS)\n",
    "width = round(cap.get(cv.CAP_PROP_FRAME_WIDTH))\n",
    "height = round(cap.get(cv.CAP_PROP_FRAME_HEIGHT))\n",
    "\n",
    "out = cv.VideoWriter(\"../output/dog_copy.mp4\", fourcc, fps, (width, height))\n",
    "\n",
    "while cap.isOpened():\n",
    "    ret, frame = cap.read()\n",
    "    if not ret:\n",
    "        break\n",
    "\n",
    "    cv.imshow(\"Video\", frame)\n",
    "    out.write(frame)\n",
    "\n",
    "    if cv.waitKey(int(1000/fps)) == ord(\"q\"):\n",
    "        break\n",
    "\n",
    "out.release()\n",
    "cap.release()\n",
    "cv.destroyAllWindows()\n",
    "cv.waitKey(1)"
   ]
  }
 ],
 "metadata": {
  "kernelspec": {
   "display_name": "cv_study",
   "language": "python",
   "name": "python3"
  },
  "language_info": {
   "codemirror_mode": {
    "name": "ipython",
    "version": 3
   },
   "file_extension": ".py",
   "mimetype": "text/x-python",
   "name": "python",
   "nbconvert_exporter": "python",
   "pygments_lexer": "ipython3",
   "version": "3.13.5"
  }
 },
 "nbformat": 4,
 "nbformat_minor": 5
}
