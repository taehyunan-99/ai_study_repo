{
 "cells": [
  {
   "cell_type": "markdown",
   "id": "d3b0f4eb",
   "metadata": {},
   "source": [
    "# 09. 히스토그램, 팽창과 침식"
   ]
  },
  {
   "cell_type": "code",
   "execution_count": null,
   "id": "98728437",
   "metadata": {},
   "outputs": [],
   "source": [
    "import cv2 as cv\n",
    "import numpy as np\n",
    "import matplotlib.pyplot as plt\n",
    "\n",
    "CAT_PATH = \"../images/cat.jpg\"\n",
    "DILATE = \"../images/dilate.jpg\"\n",
    "ERODE = \"../images/erode.jpg\""
   ]
  },
  {
   "cell_type": "markdown",
   "id": "e724564d",
   "metadata": {},
   "source": [
    "## 9-1. 히스토그램"
   ]
  },
  {
   "cell_type": "code",
   "execution_count": null,
   "id": "0566847c",
   "metadata": {},
   "outputs": [],
   "source": [
    "img = cv.imread(CAT_PATH)\n",
    "\n",
    "b = cv.calcHist([img], [0], None, [256], [0, 256])\n",
    "g = cv.calcHist([img], [1], None, [256], [0, 256])\n",
    "r = cv.calcHist([img], [2], None, [256], [0, 256])\n",
    "\n",
    "plt.plot(b, color=\"b\")\n",
    "plt.plot(g, color=\"g\")\n",
    "plt.plot(r, color=\"r\")\n",
    "\n",
    "plt.title(\"Image Histogram\")\n",
    "\n",
    "plt.xlabel(\"Pixel Value\")\n",
    "plt.ylabel(\"Frequency\")\n",
    "\n",
    "plt.show()"
   ]
  },
  {
   "cell_type": "markdown",
   "id": "2ee34614",
   "metadata": {},
   "source": [
    "## 9-2. 팽창과 침식, 열림과 닫힘"
   ]
  },
  {
   "cell_type": "markdown",
   "id": "1df01f94",
   "metadata": {},
   "source": [
    "### 팽창\n",
    "- 흰색 영역을 확장하여 검은 영역을 채움"
   ]
  },
  {
   "cell_type": "code",
   "execution_count": null,
   "id": "3fb86fd2",
   "metadata": {},
   "outputs": [],
   "source": [
    "img = cv.imread(DILATE)\n",
    "\n",
    "kernel = np.ones((3,3), dtype=np.uint8)\n",
    "\n",
    "dilate_1 = cv.dilate(img, kernel, iterations=1)\n",
    "dilate_2 = cv.dilate(img, kernel, iterations=2)\n",
    "dilate_3 = cv.dilate(img, kernel, iterations=3)\n",
    "\n",
    "cv.imshow(\"img\", img)\n",
    "cv.imshow(\"dilate_1\", dilate_1)\n",
    "cv.imshow(\"dilate_2\", dilate_2)\n",
    "cv.imshow(\"dilate_3\", dilate_3)\n",
    "\n",
    "cv.waitKey(0)\n",
    "cv.destroyAllWindows()\n",
    "cv.waitKey(1)"
   ]
  },
  {
   "cell_type": "markdown",
   "id": "4098618f",
   "metadata": {},
   "source": [
    "### 침식\n",
    "- 흰색 영역의 외곽을 검은색으로 변경"
   ]
  },
  {
   "cell_type": "code",
   "execution_count": null,
   "id": "af75864a",
   "metadata": {},
   "outputs": [],
   "source": [
    "img = cv.imread(ERODE)\n",
    "\n",
    "kernel = np.ones((3,3), dtype=np.uint8)\n",
    "\n",
    "erode_1 = cv.erode(img, kernel, iterations=1)\n",
    "erode_2 = cv.erode(img, kernel, iterations=2)\n",
    "erode_3 = cv.erode(img, kernel, iterations=3)\n",
    "\n",
    "cv.imshow(\"img\", img)\n",
    "cv.imshow(\"erode_1\", erode_1)\n",
    "cv.imshow(\"erode_2\", erode_2)\n",
    "cv.imshow(\"erode_3\", erode_3)\n",
    "\n",
    "cv.waitKey(0)\n",
    "cv.destroyAllWindows()\n",
    "cv.waitKey(1)"
   ]
  },
  {
   "cell_type": "markdown",
   "id": "188ec3bd",
   "metadata": {},
   "source": [
    "### 열림\n",
    "- 침식 후 팽창\n",
    "- 노이즈 제거 후 복원"
   ]
  },
  {
   "cell_type": "code",
   "execution_count": null,
   "id": "e5389764",
   "metadata": {},
   "outputs": [],
   "source": [
    "img = cv.imread(ERODE)\n",
    "\n",
    "kernel = np.ones((3,3), dtype=np.uint8)\n",
    "erode = cv.erode(img, kernel, iterations=3)\n",
    "dilate = cv.dilate(erode, kernel, iterations=3)\n",
    "\n",
    "cv.imshow(\"img\", img)\n",
    "cv.imshow(\"open\", dilate)\n",
    "\n",
    "cv.waitKey(0)\n",
    "cv.destroyAllWindows()\n",
    "cv.waitKey(1)"
   ]
  },
  {
   "cell_type": "markdown",
   "id": "0c48c15f",
   "metadata": {},
   "source": [
    "### 닫힘\n",
    "- 팽창 후 침식\n",
    "- 구멍을 메운 후 복원"
   ]
  },
  {
   "cell_type": "code",
   "execution_count": null,
   "id": "775815da",
   "metadata": {},
   "outputs": [],
   "source": [
    "img = cv.imread(DILATE)\n",
    "\n",
    "kernel = np.ones((3,3), dtype=np.uint8)\n",
    "dilate = cv.dilate(img, kernel, iterations=3)\n",
    "erode = cv.erode(dilate, kernel, iterations=3)\n",
    "\n",
    "cv.imshow(\"img\", img)\n",
    "cv.imshow(\"close\", erode)\n",
    "\n",
    "cv.waitKey(0)\n",
    "cv.destroyAllWindows()\n",
    "cv.waitKey(1)"
   ]
  }
 ],
 "metadata": {
  "kernelspec": {
   "display_name": "cv_study",
   "language": "python",
   "name": "python3"
  },
  "language_info": {
   "codemirror_mode": {
    "name": "ipython",
    "version": 3
   },
   "file_extension": ".py",
   "mimetype": "text/x-python",
   "name": "python",
   "nbconvert_exporter": "python",
   "pygments_lexer": "ipython3",
   "version": "3.13.5"
  }
 },
 "nbformat": 4,
 "nbformat_minor": 5
}
