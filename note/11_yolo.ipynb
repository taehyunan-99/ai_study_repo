{
 "cells": [
  {
   "cell_type": "markdown",
   "id": "9f815338",
   "metadata": {},
   "source": [
    "# 11. YOLO"
   ]
  },
  {
   "cell_type": "code",
   "execution_count": null,
   "id": "8324d1f1",
   "metadata": {},
   "outputs": [],
   "source": [
    "from ultralytics import YOLO\n",
    "import cv2 as cv\n",
    "import numpy as np\n",
    "\n",
    "print(cv.__version__)\n",
    "print(np.__version__)"
   ]
  },
  {
   "cell_type": "code",
   "execution_count": null,
   "id": "d00435e7",
   "metadata": {},
   "outputs": [],
   "source": [
    "# YOLO 모델 불러오기\n",
    "model = YOLO(\"yolo11n.pt\")\n",
    "img = cv.imread(\"../images/person_dog.jpg\")\n",
    "\n",
    "# 객체 인식\n",
    "results = model.predict(img, conf=0.5)\n",
    "\n",
    "# 탐지 결과를 이미지 위에 그려줌\n",
    "annotated_frame = results[0].plot()\n",
    "\n",
    "cv.imshow(\"img\", annotated_frame)\n",
    "\n",
    "cv.waitKey(0)\n",
    "cv.destroyAllWindows()\n",
    "cv.waitKey(1)"
   ]
  },
  {
   "cell_type": "code",
   "execution_count": null,
   "id": "7b69bdd3",
   "metadata": {},
   "outputs": [],
   "source": [
    "# 영상에 적용\n",
    "cap = cv.VideoCapture(\"../videos/cars.mp4\")\n",
    "model = YOLO(\"yolo11n.pt\")\n",
    "fps = cap.get(cv.CAP_PROP_FPS)\n",
    "\n",
    "while cap.isOpened():\n",
    "    ret, frame = cap.read()\n",
    "\n",
    "    if not ret:\n",
    "        break\n",
    "\n",
    "    result = model.predict(frame, conf=0.5)\n",
    "    annotated_frame = result[0].plot()\n",
    "\n",
    "    cv.imshow(\"cars\", annotated_frame)\n",
    "\n",
    "    if cv.waitKey(int(1000/fps)) == ord(\"q\"):\n",
    "        break\n",
    "\n",
    "cap.release()\n",
    "cv.destroyAllWindows()\n",
    "cv.waitKey(1)"
   ]
  },
  {
   "cell_type": "code",
   "execution_count": null,
   "id": "8ca6f470",
   "metadata": {},
   "outputs": [],
   "source": [
    "cap = cv.VideoCapture(\"../videos/city.mp4\")\n",
    "model = YOLO(\"yolo11n.pt\")\n",
    "fps = cap.get(cv.CAP_PROP_FPS)\n",
    "\n",
    "while cap.isOpened():\n",
    "    ret, frame = cap.read()\n",
    "\n",
    "    if not ret:\n",
    "        break\n",
    "\n",
    "    result = model.predict(frame, conf=0.5)\n",
    "    annotated_frame = result[0].plot()\n",
    "\n",
    "    cv.imshow(\"city\", annotated_frame)\n",
    "\n",
    "    if cv.waitKey(int(1000/fps)) == ord(\"q\"):\n",
    "        break\n",
    "\n",
    "cap.release()\n",
    "cv.destroyAllWindows()\n",
    "cv.waitKey(1)"
   ]
  },
  {
   "cell_type": "code",
   "execution_count": null,
   "id": "55cf1908",
   "metadata": {},
   "outputs": [],
   "source": [
    "# 실습3. 캠화면에 적용\n",
    "\n",
    "cap = cv.VideoCapture(0)\n",
    "model = YOLO(\"yolo11n.pt\")\n",
    "\n",
    "while cap.isOpened():\n",
    "    ret, frame = cap.read()\n",
    "\n",
    "    if not ret:\n",
    "        break\n",
    "\n",
    "    result = model.predict(frame, conf=0.5)\n",
    "    annotated_frame = result[0].plot()\n",
    "\n",
    "    cv.imshow(\"video\", annotated_frame)\n",
    "\n",
    "    if cv.waitKey(1) == ord(\"q\"):\n",
    "        break\n",
    "\n",
    "cap.release()\n",
    "cv.destroyAllWindows()\n",
    "cv.waitKey(1)"
   ]
  }
 ],
 "metadata": {
  "kernelspec": {
   "display_name": "yolo_study",
   "language": "python",
   "name": "python3"
  },
  "language_info": {
   "codemirror_mode": {
    "name": "ipython",
    "version": 3
   },
   "file_extension": ".py",
   "mimetype": "text/x-python",
   "name": "python",
   "nbconvert_exporter": "python",
   "pygments_lexer": "ipython3",
   "version": "3.12.3"
  }
 },
 "nbformat": 4,
 "nbformat_minor": 5
}
