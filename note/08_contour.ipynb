{
 "cells": [
  {
   "cell_type": "markdown",
   "id": "be1a1d8a",
   "metadata": {},
   "source": [
    "# 08. 윤곽선\n",
    "- 윤곽선(Contour) : 같은 색상(빛의 강도)을 가진 영역의 경계선을 연결한 곡선\n",
    "\n",
    "## 윤곽선 그리는 방법\n",
    "1. 엣지를 찾는다 (Threshold/Canny)\n",
    "2. 윤곽선을 생성해서 데이터로 저장 (findContours)\n",
    "3. 이미지 위에 윤곽선을 그림 (drawContours)"
   ]
  },
  {
   "cell_type": "code",
   "execution_count": 1,
   "id": "649dbaad",
   "metadata": {},
   "outputs": [],
   "source": [
    "import cv2 as cv\n",
    "import numpy as np\n",
    "\n",
    "DOG_PATH = \"../images/dog.jpg\"\n",
    "CAT_PATH = \"../images/cat.jpg\""
   ]
  },
  {
   "cell_type": "markdown",
   "id": "4eb83bd7",
   "metadata": {},
   "source": [
    "## 8-1. 윤곽선 검출"
   ]
  },
  {
   "cell_type": "code",
   "execution_count": null,
   "id": "c3232a73",
   "metadata": {},
   "outputs": [],
   "source": [
    "img = cv.imread(DOG_PATH)\n",
    "coppied = img.copy()\n",
    "\n",
    "# 그레이 스케일로 변환\n",
    "gray = cv.cvtColor(coppied, cv.COLOR_BGR2GRAY)\n",
    "\n",
    "# 이진화\n",
    "ret, binary = cv.threshold(gray, -1, 255, cv.THRESH_BINARY | cv.THRESH_OTSU)\n",
    "\n",
    "# 윤곽선 찾기\n",
    "contours, hierachy = cv.findContours(binary, cv.RETR_CCOMP, cv.CHAIN_APPROX_NONE)\n",
    "\n",
    "# 윤곽선 그리기\n",
    "cv.drawContours(img, contours, -1, (0,255,0), 2)\n",
    "\n",
    "cv.imshow(\"Contours\", img)\n",
    "\n",
    "cv.waitKey(0)\n",
    "cv.destroyAllWindows()\n",
    "cv.waitKey(1)"
   ]
  },
  {
   "cell_type": "code",
   "execution_count": null,
   "id": "a7c327c7",
   "metadata": {},
   "outputs": [],
   "source": [
    "img = cv.imread(DOG_PATH)\n",
    "coppied = img.copy()\n",
    "\n",
    "# 그레이 스케일로 변환\n",
    "gray = cv.cvtColor(coppied, cv.COLOR_BGR2GRAY)\n",
    "\n",
    "# Canny\n",
    "canny = cv.Canny(gray, 50, 150)\n",
    "\n",
    "# 윤곽선 찾기\n",
    "contours, hierachy = cv.findContours(canny, cv.RETR_CCOMP, cv.CHAIN_APPROX_NONE)\n",
    "\n",
    "# 윤곽선 그리기\n",
    "cv.drawContours(img, contours, -1, (0,255,0), 2)\n",
    "\n",
    "cv.imshow(\"Contours\", img)\n",
    "\n",
    "cv.waitKey(0)\n",
    "cv.destroyAllWindows()\n",
    "cv.waitKey(1)"
   ]
  },
  {
   "cell_type": "code",
   "execution_count": null,
   "id": "844d6c68",
   "metadata": {},
   "outputs": [],
   "source": [
    "img = cv.imread(DOG_PATH)\n",
    "coppied = img.copy()\n",
    "\n",
    "# 그레이 스케일로 변환\n",
    "gray = cv.cvtColor(coppied, cv.COLOR_BGR2GRAY)\n",
    "\n",
    "# 이진화\n",
    "ret, binary = cv.threshold(gray, -1, 255, cv.THRESH_BINARY | cv.THRESH_OTSU)\n",
    "\n",
    "# Canny\n",
    "canny = cv.Canny(binary, 100, 150)\n",
    "\n",
    "# 윤곽선 찾기\n",
    "contours, hierachy = cv.findContours(canny, cv.RETR_CCOMP, cv.CHAIN_APPROX_NONE)\n",
    "\n",
    "# 윤곽선 그리기\n",
    "cv.drawContours(img, contours, -1, (0,255,0), 2)\n",
    "\n",
    "cv.imshow(\"Contours\", img)\n",
    "\n",
    "cv.waitKey(0)\n",
    "cv.destroyAllWindows()\n",
    "cv.waitKey(1)"
   ]
  },
  {
   "cell_type": "markdown",
   "id": "1a0f4d56",
   "metadata": {},
   "source": [
    "## 8-2. boundingRect\n",
    "- 윤곽선을 둘러싼 사각형"
   ]
  },
  {
   "cell_type": "code",
   "execution_count": null,
   "id": "3da54d4d",
   "metadata": {},
   "outputs": [],
   "source": [
    "img = cv.imread(DOG_PATH)\n",
    "coppied = img.copy()\n",
    "\n",
    "gray = cv.cvtColor(coppied, cv.COLOR_BGR2GRAY)\n",
    "\n",
    "ret, binary = cv.threshold(gray, -1, 255, cv.THRESH_BINARY | cv.THRESH_OTSU)\n",
    "\n",
    "contours, hierachy = cv.findContours(binary, cv.RETR_LIST, cv.CHAIN_APPROX_NONE)\n",
    "\n",
    "for contour in contours:\n",
    "    x, y, width, height = cv.boundingRect(contour)\n",
    "    cv.rectangle(img, (x,y), (x+width, y+height), (255,0,0), 2, cv.LINE_AA)\n",
    "\n",
    "cv.imshow(\"Bounding Rect\", img)\n",
    "\n",
    "cv.waitKey(0)\n",
    "cv.destroyAllWindows()\n",
    "cv.waitKey(1)"
   ]
  },
  {
   "cell_type": "markdown",
   "id": "19e20cc4",
   "metadata": {},
   "source": [
    "## 8-3. contourArea\n",
    "- contour의 면적 계산"
   ]
  },
  {
   "cell_type": "code",
   "execution_count": null,
   "id": "d4e478a9",
   "metadata": {},
   "outputs": [
    {
     "data": {
      "text/plain": [
       "-1"
      ]
     },
     "execution_count": 18,
     "metadata": {},
     "output_type": "execute_result"
    }
   ],
   "source": [
    "img = cv.imread(CAT_PATH)\n",
    "coppied = img.copy()\n",
    "\n",
    "gray = cv.cvtColor(img, cv.COLOR_BGR2GRAY)\n",
    "\n",
    "ret, binary = cv.threshold(gray, -1, 255, cv.THRESH_BINARY | cv.THRESH_OTSU)\n",
    "\n",
    "contours, hierachy = cv.findContours(binary, cv.RETR_LIST, cv.CHAIN_APPROX_NONE)\n",
    "\n",
    "for contour in contours:\n",
    "    # contour의 면적이 1000보다 크면\n",
    "    if cv.contourArea(contour) > 1000:\n",
    "        x, y, width, height = cv.boundingRect(contour)\n",
    "        cv.rectangle(img, (x,y), (x+width, y+height), (255,0,0), 2, cv.LINE_AA)\n",
    "\n",
    "cv.imshow(\"Bounding Rect\", img)\n",
    "\n",
    "cv.waitKey(0)\n",
    "cv.destroyAllWindows()\n",
    "cv.waitKey(1)"
   ]
  },
  {
   "cell_type": "code",
   "execution_count": null,
   "id": "35ace2a0",
   "metadata": {},
   "outputs": [
    {
     "data": {
      "text/plain": [
       "-1"
      ]
     },
     "execution_count": 7,
     "metadata": {},
     "output_type": "execute_result"
    }
   ],
   "source": [
    "# 실습4. 순서대로 박스 표시\n",
    "\n",
    "img = cv.imread(\"../images/vehicles.png\")\n",
    "coppied = img.copy()\n",
    "\n",
    "gray = cv.cvtColor(coppied, cv.COLOR_BGR2GRAY)\n",
    "ret, binary = cv.threshold(gray, -1, 255, cv.THRESH_BINARY | cv.THRESH_OTSU)\n",
    "contours, hierachy = cv.findContours(binary, cv.RETR_LIST, cv.CHAIN_APPROX_NONE)\n",
    "\n",
    "name = \"Index Trackbar\"\n",
    "cv.namedWindow(name)\n",
    "\n",
    "filtered_contours = [c for c in contours if cv.contourArea(c) > 700]\n",
    "\n",
    "cv.createTrackbar(\"index\", name, 0, len(filtered_contours)-1, lambda x:x)\n",
    "\n",
    "while True:\n",
    "    coppied = img.copy()\n",
    "\n",
    "    index = cv.getTrackbarPos(\"index\", name)\n",
    "    contour = filtered_contours[index]\n",
    "\n",
    "    x, y, width, height = cv.boundingRect(contour)\n",
    "    cv.rectangle(coppied, (x,y), (x+width, y+height), (255,0,0), 2, cv.LINE_AA)\n",
    "    \n",
    "    cv.imshow(name, coppied)\n",
    "\n",
    "    if cv.waitKey(1) == ord(\"q\"):\n",
    "        break\n",
    "\n",
    "cv.destroyAllWindows()\n",
    "cv.waitKey(1)"
   ]
  },
  {
   "cell_type": "code",
   "execution_count": null,
   "id": "92636cd5",
   "metadata": {},
   "outputs": [],
   "source": [
    "# 실습5. 카드 하나씩 새 창에 표시\n",
    "\n",
    "img = cv.imread(\"../images/playing_cards.png\")\n",
    "coppied = img.copy()\n",
    "gray = cv.cvtColor(coppied, cv.COLOR_BGR2GRAY)\n",
    "ret, binary = cv.threshold(gray, -1, 255, cv.THRESH_BINARY | cv.THRESH_OTSU)\n",
    "contours, hierachy = cv.findContours(binary, cv.RETR_LIST, cv.CHAIN_APPROX_NONE)\n",
    "\n",
    "count = 0\n",
    "\n",
    "for contour in contours:\n",
    "    if cv.contourArea(contour) > 1300:\n",
    "        count += 1\n",
    "        x, y, width, height = cv.boundingRect(contour)\n",
    "        cv.rectangle(coppied, (x,y), (x+width, y+height), (0,255,0), 2, cv.LINE_AA)\n",
    "\n",
    "        src = np.array([[x,y], [x+width,y], [x+width,y+height], [x,y+height]], dtype=np.float32)\n",
    "        dst = np.array([[0,0], [width,0], [width,height], [0,height]], dtype=np.float32)\n",
    "\n",
    "        mat = cv.getPerspectiveTransform(src, dst)\n",
    "        result = cv.warpPerspective(img, mat, (width, height))\n",
    "\n",
    "        cv.imshow(f\"Card{count}\", result)\n",
    "\n",
    "cv.imshow(\"Cards\", coppied)\n",
    "\n",
    "cv.waitKey(0)\n",
    "cv.destroyAllWindows()\n",
    "cv.waitKey(1)\n"
   ]
  },
  {
   "cell_type": "code",
   "execution_count": null,
   "id": "fb116c43",
   "metadata": {},
   "outputs": [
    {
     "data": {
      "text/plain": [
       "-1"
      ]
     },
     "execution_count": 2,
     "metadata": {},
     "output_type": "execute_result"
    },
    {
     "ename": "",
     "evalue": "",
     "output_type": "error",
     "traceback": [
      "\u001b[1;31mThe Kernel crashed while executing code in the current cell or a previous cell. \n",
      "\u001b[1;31mPlease review the code in the cell(s) to identify a possible cause of the failure. \n",
      "\u001b[1;31mClick <a href='https://aka.ms/vscodeJupyterKernelCrash'>here</a> for more info. \n",
      "\u001b[1;31mView Jupyter <a href='command:jupyter.viewOutput'>log</a> for further details."
     ]
    }
   ],
   "source": [
    "# 실습5. 카드 하나씩 새 창에 표시 + 트랙바\n",
    "\n",
    "img = cv.imread(\"../images/playing_cards.png\")\n",
    "coppied = img.copy()\n",
    "gray = cv.cvtColor(coppied, cv.COLOR_BGR2GRAY)\n",
    "ret, binary = cv.threshold(gray, -1, 255, cv.THRESH_BINARY | cv.THRESH_OTSU)\n",
    "contours, hierachy = cv.findContours(binary, cv.RETR_LIST, cv.CHAIN_APPROX_NONE)\n",
    "\n",
    "crops = []\n",
    "\n",
    "for idx, contour in enumerate(contours):\n",
    "    if cv.contourArea(contour) > 1300:\n",
    "        x, y, width, height = cv.boundingRect(contour)\n",
    "        cv.rectangle(coppied, (x,y), (x+width, y+height), (0,255,0), 2, cv.LINE_AA)\n",
    "        crop = img[y:y+height, x:x+width]\n",
    "        crops.append(crop)\n",
    "\n",
    "def on_trackbar(val):\n",
    "    target = crops[val]\n",
    "    cv.imshow(\"Card\", target)\n",
    "\n",
    "name = \"Original\"\n",
    "cv.namedWindow(name)\n",
    "\n",
    "cv.createTrackbar(\"index\", name, 0, len(crops)-1, on_trackbar)\n",
    "\n",
    "cv.imshow(name, coppied)\n",
    "\n",
    "cv.waitKey(0)\n",
    "cv.destroyAllWindows()\n",
    "cv.waitKey(1)\n"
   ]
  }
 ],
 "metadata": {
  "kernelspec": {
   "display_name": "cv_study",
   "language": "python",
   "name": "python3"
  },
  "language_info": {
   "codemirror_mode": {
    "name": "ipython",
    "version": 3
   },
   "file_extension": ".py",
   "mimetype": "text/x-python",
   "name": "python",
   "nbconvert_exporter": "python",
   "pygments_lexer": "ipython3",
   "version": "3.13.5"
  }
 },
 "nbformat": 4,
 "nbformat_minor": 5
}
