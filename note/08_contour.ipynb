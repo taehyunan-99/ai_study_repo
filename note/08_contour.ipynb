{
 "cells": [
  {
   "cell_type": "markdown",
   "id": "be1a1d8a",
   "metadata": {},
   "source": [
    "# 08. 윤곽선\n",
    "- 윤곽선(Contour) : 같은 색상(빛의 강도)을 가진 영역의 경계선을 연결한 곡선\n",
    "\n",
    "## 윤곽선 그리는 방법\n",
    "1. 엣지를 찾는다 (Threshold/Canny)\n",
    "2. 윤곽선을 생성해서 데이터로 저장 (findContours)\n",
    "3. 이미지 위에 윤곽선을 그림 (drawContours)"
   ]
  },
  {
   "cell_type": "code",
   "execution_count": 3,
   "id": "649dbaad",
   "metadata": {},
   "outputs": [],
   "source": [
    "import cv2 as cv\n",
    "\n",
    "DOG_PATH = \"../images/dog.jpg\""
   ]
  },
  {
   "cell_type": "markdown",
   "id": "4eb83bd7",
   "metadata": {},
   "source": [
    "## 8-1. 기본 구현"
   ]
  },
  {
   "cell_type": "code",
   "execution_count": 4,
   "id": "c3232a73",
   "metadata": {},
   "outputs": [
    {
     "data": {
      "text/plain": [
       "-1"
      ]
     },
     "execution_count": 4,
     "metadata": {},
     "output_type": "execute_result"
    }
   ],
   "source": [
    "img = cv.imread(DOG_PATH)\n",
    "coppied = img.copy()\n",
    "\n",
    "# 그레이 스케일로 변환\n",
    "gray = cv.cvtColor(coppied, cv.COLOR_BGR2GRAY)\n",
    "\n",
    "# 이진화\n",
    "ret, binary = cv.threshold(gray, -1, 255, cv.THRESH_BINARY | cv.THRESH_OTSU)\n",
    "\n",
    "# 윤곽선 찾기\n",
    "contours, hierachy = cv.findContours(binary, cv.RETR_CCOMP, cv.CHAIN_APPROX_NONE)\n",
    "\n",
    "# 윤곽선 그리기\n",
    "cv.drawContours(img, contours, -1, (0,255,0), 2)\n",
    "\n",
    "cv.imshow(\"Contours\", img)\n",
    "\n",
    "cv.waitKey(0)\n",
    "cv.destroyAllWindows()\n",
    "cv.waitKey(1)"
   ]
  }
 ],
 "metadata": {
  "kernelspec": {
   "display_name": "cv_study",
   "language": "python",
   "name": "python3"
  },
  "language_info": {
   "codemirror_mode": {
    "name": "ipython",
    "version": 3
   },
   "file_extension": ".py",
   "mimetype": "text/x-python",
   "name": "python",
   "nbconvert_exporter": "python",
   "pygments_lexer": "ipython3",
   "version": "3.13.7"
  }
 },
 "nbformat": 4,
 "nbformat_minor": 5
}
