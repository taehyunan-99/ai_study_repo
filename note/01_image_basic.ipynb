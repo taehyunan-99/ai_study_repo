{
 "cells": [
  {
   "cell_type": "markdown",
   "id": "fbb7eea2",
   "metadata": {},
   "source": [
    "# 01. 이미지 입력 출력 쓰기"
   ]
  },
  {
   "cell_type": "markdown",
   "id": "037d7901",
   "metadata": {},
   "source": [
    "## 1-1. 이미지 입출력\n",
    "- ```'imread(path)'``` : 이미지 입력\n",
    "- ```'imshow(winame, img)'``` : 이미지 출력\n",
    "- ```'waitkey(ms)'``` : ms초 만큼 키 입력을 기다림, 0의경우 무한대기\n",
    "- ```'destroyAllWindows()'``` : 열려 있는 모든 창을 종료"
   ]
  },
  {
   "cell_type": "code",
   "execution_count": 1,
   "id": "e1bf289a",
   "metadata": {},
   "outputs": [],
   "source": [
    "import cv2 as cv\n",
    "\n",
    "DOG_PATH = \"../images/dog.jpg\"\n",
    "DOG_PNG_PATH = \"../images/dog_png.png\""
   ]
  },
  {
   "cell_type": "code",
   "execution_count": 2,
   "id": "6c9cdd35",
   "metadata": {},
   "outputs": [
    {
     "data": {
      "text/plain": [
       "'4.12.0'"
      ]
     },
     "execution_count": 2,
     "metadata": {},
     "output_type": "execute_result"
    }
   ],
   "source": [
    "cv.__version__"
   ]
  },
  {
   "cell_type": "code",
   "execution_count": null,
   "id": "05034b12",
   "metadata": {},
   "outputs": [],
   "source": [
    "img = cv.imread(DOG_PATH)\n",
    "# print(img)\n",
    "\n",
    "cv.imshow(\"DOG\", img)\n",
    "\n",
    "key = cv.waitKey(0) # 0 = 무한대기\n",
    "# print(key)\n",
    "# ord(key) : 문자의 아스키 코드 획득\n",
    "# chr(key) : 아스키 코드를 문자로 변경\n",
    "\n",
    "cv.destroyAllWindows()\n",
    "# mac 사용시 아래 추가\n",
    "cv.waitKey(1)"
   ]
  },
  {
   "cell_type": "markdown",
   "id": "4ff58f82",
   "metadata": {},
   "source": [
    "## 1-2. 이미지 불러오기 옵션\n",
    "- ```'cv2.IMREAD_COLOR'``` : 이미지를 컬러로 불러옴(기본값), 투명배경 무시\n",
    "- ```'cv2.IMREAD_GRAYSCALE'``` : 이미지를 흑백으로 불러옴\n",
    "- ```'cv2.IMREAD_UNCHANGED'``` : 이미지를 컬러로 불러옴, 투명배경 인식(alpha값 포함)\n",
    "    - alpha값 : 이미지의 투명도 정보를 제공"
   ]
  },
  {
   "cell_type": "code",
   "execution_count": null,
   "id": "cc5f1895",
   "metadata": {},
   "outputs": [
    {
     "data": {
      "text/plain": [
       "-1"
      ]
     },
     "execution_count": 2,
     "metadata": {},
     "output_type": "execute_result"
    }
   ],
   "source": [
    "img_default = cv.imread(DOG_PNG_PATH, cv.IMREAD_COLOR)\n",
    "img_gray = cv.imread(DOG_PNG_PATH, cv.IMREAD_GRAYSCALE)\n",
    "img_unchanged = cv.imread(DOG_PNG_PATH, cv.IMREAD_UNCHANGED)\n",
    "\n",
    "cv.imshow(\"Default\", img_default)\n",
    "cv.imshow(\"Grayscale\", img_gray)\n",
    "cv.imshow(\"Unchanged\", img_unchanged)\n",
    "\n",
    "cv.waitKey(0)\n",
    "cv.destroyAllWindows()\n",
    "# mac 사용시 아래 추가\n",
    "cv.waitKey(1)"
   ]
  },
  {
   "cell_type": "markdown",
   "id": "6fcbf50f",
   "metadata": {},
   "source": [
    "## 1-3. 이미지 shape\n",
    "- 이미지의 구조를 출력해줌\n",
    "- 세로, 가로, 채널 출력"
   ]
  },
  {
   "cell_type": "code",
   "execution_count": null,
   "id": "666d805b",
   "metadata": {},
   "outputs": [
    {
     "name": "stdout",
     "output_type": "stream",
     "text": [
      "Default shape (476, 320, 3)\n",
      "Grayscale shape (476, 320)\n",
      "Unchanged shape (476, 320, 4)\n"
     ]
    }
   ],
   "source": [
    "img_default = cv.imread(DOG_PNG_PATH, cv.IMREAD_COLOR)\n",
    "img_gray = cv.imread(DOG_PNG_PATH, cv.IMREAD_GRAYSCALE)\n",
    "img_unchanged = cv.imread(DOG_PNG_PATH, cv.IMREAD_UNCHANGED)\n",
    "\n",
    "print(\"Default shape\", img_default.shape)\n",
    "print(\"Grayscale shape\", img_gray.shape)\n",
    "print(\"Unchanged shape\", img_unchanged.shape)\n",
    "# Default shape (476, 320, 3)\n",
    "# Grayscale shape (476, 320)\n",
    "# Unchanged shape (476, 320, 4)"
   ]
  },
  {
   "cell_type": "markdown",
   "id": "768c5c84",
   "metadata": {},
   "source": [
    "## 1-4. 이미지 쓰기\n",
    "- ```'imwrite(path, img)'``` : 불러온 이미지를 파일로 생성"
   ]
  },
  {
   "cell_type": "code",
   "execution_count": 4,
   "id": "e2783569",
   "metadata": {},
   "outputs": [
    {
     "data": {
      "text/plain": [
       "True"
      ]
     },
     "execution_count": 4,
     "metadata": {},
     "output_type": "execute_result"
    }
   ],
   "source": [
    "img = cv.imread(DOG_PATH)\n",
    "cv.imwrite(\"../output/dog_copy.jpg\", img)"
   ]
  },
  {
   "cell_type": "code",
   "execution_count": 5,
   "id": "23da4d60",
   "metadata": {},
   "outputs": [
    {
     "data": {
      "text/plain": [
       "-1"
      ]
     },
     "execution_count": 5,
     "metadata": {},
     "output_type": "execute_result"
    }
   ],
   "source": [
    "# 실습1. 원하는 이미지 띄우기\n",
    "\n",
    "CAT_PATH = \"../images/cat.jpg\"\n",
    "\n",
    "img_cat_default = cv.imread(CAT_PATH, cv.IMREAD_COLOR)\n",
    "img_cat_gray = cv.imread(CAT_PATH, cv.IMREAD_GRAYSCALE)\n",
    "\n",
    "cv.imshow(\"Default\", img_cat_default)\n",
    "cv.imshow(\"Gray\", img_cat_gray)\n",
    "\n",
    "cv.waitKey(0)\n",
    "cv.destroyAllWindows()\n",
    "cv.waitKey(1)"
   ]
  }
 ],
 "metadata": {
  "kernelspec": {
   "display_name": "cv_study",
   "language": "python",
   "name": "python3"
  },
  "language_info": {
   "codemirror_mode": {
    "name": "ipython",
    "version": 3
   },
   "file_extension": ".py",
   "mimetype": "text/x-python",
   "name": "python",
   "nbconvert_exporter": "python",
   "pygments_lexer": "ipython3",
   "version": "3.13.5"
  }
 },
 "nbformat": 4,
 "nbformat_minor": 5
}
