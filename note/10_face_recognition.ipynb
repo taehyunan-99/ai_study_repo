{
 "cells": [
  {
   "cell_type": "markdown",
   "id": "c2bde6b3",
   "metadata": {},
   "source": [
    "# 10. 얼굴인식(Haar Cascade)"
   ]
  },
  {
   "cell_type": "code",
   "execution_count": null,
   "id": "1bfe672b",
   "metadata": {},
   "outputs": [],
   "source": [
    "import cv2 as cv\n",
    "FACE = \"../images/face1.jpg\"\n",
    "\n",
    "FACE_CASCADE = \"../cascade/haarcascade_frontalface_default.xml\"\n",
    "EYE_CASCADE = \"../cascade/haarcascade_eye.xml\""
   ]
  },
  {
   "cell_type": "code",
   "execution_count": null,
   "id": "c7783ddd",
   "metadata": {},
   "outputs": [],
   "source": [
    "face_cascade = cv.CascadeClassifier(FACE_CASCADE)\n",
    "\n",
    "img = cv.imread(FACE)\n",
    "gray = cv.cvtColor(img, cv.COLOR_BGR2GRAY)\n",
    "\n",
    "faces = face_cascade.detectMultiScale(\n",
    "    gray, scaleFactor=1.1, minNeighbors=10, minSize=(10,10)\n",
    ")\n",
    "\n",
    "if len(faces):\n",
    "    for face in faces:\n",
    "        x, y, width, height = face\n",
    "        cv.rectangle(img, (x,y), (x+width, y+height), (0,255,0), 2, cv.LINE_AA)\n",
    "\n",
    "cv.imshow(\"img\", img)\n",
    "\n",
    "cv.waitKey(0)\n",
    "cv.destroyAllWindows()\n",
    "cv.waitKey(1)"
   ]
  },
  {
   "cell_type": "code",
   "execution_count": null,
   "id": "8b0102fb",
   "metadata": {},
   "outputs": [],
   "source": [
    "eye_cascade = cv.CascadeClassifier(EYE_CASCADE)\n",
    "\n",
    "img = cv.imread(FACE)\n",
    "gray = cv.cvtColor(img, cv.COLOR_BGR2GRAY)\n",
    "\n",
    "eyes = eye_cascade.detectMultiScale(\n",
    "    gray, scaleFactor=1.1, minNeighbors=15, minSize=(10,10)\n",
    ")\n",
    "\n",
    "if len(eyes):\n",
    "    for eye in eyes:\n",
    "        x, y, width, height = eye\n",
    "        cv.rectangle(img, (x,y), (x+width, y+height), (0,255,0), 2, cv.LINE_AA)\n",
    "\n",
    "cv.imshow(\"img\", img)\n",
    "\n",
    "cv.waitKey(0)\n",
    "cv.destroyAllWindows()\n",
    "cv.waitKey(1)"
   ]
  }
 ],
 "metadata": {
  "kernelspec": {
   "display_name": "ai_study",
   "language": "python",
   "name": "python3"
  },
  "language_info": {
   "codemirror_mode": {
    "name": "ipython",
    "version": 3
   },
   "file_extension": ".py",
   "mimetype": "text/x-python",
   "name": "python",
   "nbconvert_exporter": "python",
   "pygments_lexer": "ipython3",
   "version": "3.12.11"
  }
 },
 "nbformat": 4,
 "nbformat_minor": 5
}
