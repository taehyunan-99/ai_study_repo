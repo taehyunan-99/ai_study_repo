{
 "cells": [
  {
   "cell_type": "markdown",
   "id": "79450c1c",
   "metadata": {},
   "source": [
    "# 12. tesseract-ocr"
   ]
  },
  {
   "cell_type": "code",
   "execution_count": null,
   "id": "1762a301",
   "metadata": {},
   "outputs": [],
   "source": [
    "import cv2 as cv\n",
    "from pytesseract import pytesseract as pyt\n",
    "import numpy as np\n",
    "# pyt.tesseract_cmd = r'/usr/local/bin/tesseract'"
   ]
  },
  {
   "cell_type": "code",
   "execution_count": null,
   "id": "d525c4f1",
   "metadata": {},
   "outputs": [],
   "source": [
    "img = cv.imread(\"../images/bill.png\", cv.IMREAD_GRAYSCALE)\n",
    "\n",
    "ret, binary = cv.threshold(img, -1, 255, cv.THRESH_BINARY | cv.THRESH_OTSU)\n",
    "\n",
    "text = pyt.image_to_string(binary, lang=\"eng\")\n",
    "\n",
    "print(text)"
   ]
  },
  {
   "cell_type": "code",
   "execution_count": null,
   "id": "1f36905d",
   "metadata": {},
   "outputs": [],
   "source": [
    "# 실습4. 이미지에서 글자 인식\n",
    "\n",
    "img = cv.imread(\"../images/stop.png\")\n",
    "point_list = []\n",
    "name = \"Mouse Event\"\n",
    "cv.namedWindow(name)\n",
    "\n",
    "def show_img():\n",
    "    width = int(np.linalg.norm(np.array(point_list[0]) - (point_list[1])))\n",
    "    height = int(np.linalg.norm(np.array(point_list[0]) - (point_list[3])))\n",
    "\n",
    "    src = np.array(point_list, dtype=np.float32)\n",
    "    dst = np.array([[0,0], [width,0], [width,height], [0,height]], dtype=np.float32)\n",
    "    mat = cv.getPerspectiveTransform(src, dst)\n",
    "    result = cv.warpPerspective(img, mat, (width, height))\n",
    "    \n",
    "    cv.imshow(\"result\", result)\n",
    "\n",
    "    gray = cv.cvtColor(result, cv.COLOR_BGR2GRAY)\n",
    "    _, binary = cv.threshold(gray, -1, 255, cv.THRESH_BINARY | cv.THRESH_OTSU)\n",
    "    text = pyt.image_to_string(binary, lang=\"eng\")\n",
    "    print(text)\n",
    "\n",
    "def on_mouse(event, x, y, flags, _):\n",
    "    coppied = img.copy()\n",
    "    point = (x,y)\n",
    "\n",
    "    if event == cv.EVENT_LBUTTONDOWN:\n",
    "        point_list.append(point)\n",
    "\n",
    "    for i, p in enumerate(point_list):\n",
    "        cv.circle(coppied, p, 10, (0,255,255), cv.FILLED)\n",
    "        if i > 0:\n",
    "            cv.line(coppied, point_list[i-1], p, (0,255,255), 5)\n",
    "\n",
    "    if len(point_list) > 0 and len(point_list) < 4:\n",
    "        cv.line(coppied, point_list[-1], point, (0,255,255), 5) \n",
    "\n",
    "    if len(point_list) == 4 and event == cv.EVENT_LBUTTONDOWN:\n",
    "        cv.line(coppied, point_list[-1], point_list[0], (0,255,255), 5) \n",
    "        show_img()\n",
    "    \n",
    "    cv.imshow(name, coppied)\n",
    "\n",
    "cv.imshow(name, img)\n",
    "\n",
    "cv.setMouseCallback(name, on_mouse)\n",
    "\n",
    "cv.waitKey(0)\n",
    "cv.destroyAllWindows()\n",
    "cv.waitKey(1)"
   ]
  }
 ],
 "metadata": {
  "kernelspec": {
   "display_name": "cv_study",
   "language": "python",
   "name": "python3"
  },
  "language_info": {
   "codemirror_mode": {
    "name": "ipython",
    "version": 3
   },
   "file_extension": ".py",
   "mimetype": "text/x-python",
   "name": "python",
   "nbconvert_exporter": "python",
   "pygments_lexer": "ipython3",
   "version": "3.13.5"
  }
 },
 "nbformat": 4,
 "nbformat_minor": 5
}
