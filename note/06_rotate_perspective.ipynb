{
 "cells": [
  {
   "cell_type": "markdown",
   "id": "c64d0a2a",
   "metadata": {},
   "source": [
    "# 06. 이미지 회전과 원근 변환"
   ]
  },
  {
   "cell_type": "code",
   "execution_count": 8,
   "id": "7b94a157",
   "metadata": {},
   "outputs": [],
   "source": [
    "import cv2 as cv\n",
    "import numpy as np\n",
    "DOG_PATH = \"../images/dog.jpg\"\n",
    "CARD_PATH = \"../images/card.jpg\""
   ]
  },
  {
   "cell_type": "markdown",
   "id": "d9391e0c",
   "metadata": {},
   "source": [
    "## 6-1. 이미지 회전(rotate)\n",
    "- ```cv2.rotate(img, rotateCode)```\n",
    "- ```rotateCode```\n",
    "    - ```cv2.ROTATE_90_CLOCKWISE``` : 시계방향 90도 회전\n",
    "    - ```cv2.ROTATE_180``` : 180도 회전\n",
    "    - ```cv2.ROTATE_90_COUNTERCLOCKWISE``` : 반시계방향 90도 회전"
   ]
  },
  {
   "cell_type": "code",
   "execution_count": 2,
   "id": "7dfc86bb",
   "metadata": {},
   "outputs": [
    {
     "data": {
      "text/plain": [
       "-1"
      ]
     },
     "execution_count": 2,
     "metadata": {},
     "output_type": "execute_result"
    }
   ],
   "source": [
    "img = cv.imread(DOG_PATH)\n",
    "\n",
    "dst_90 = cv.rotate(img, cv.ROTATE_90_CLOCKWISE)\n",
    "dst_180 = cv.rotate(img, cv.ROTATE_180)\n",
    "dst_90_counter = cv.rotate(img, cv.ROTATE_90_COUNTERCLOCKWISE)\n",
    "\n",
    "cv.imshow(\"original\", img)\n",
    "cv.imshow(\"90\", dst_90)\n",
    "cv.imshow(\"180\", dst_180)\n",
    "cv.imshow(\"90 counter\", dst_90_counter)\n",
    "\n",
    "cv.waitKey(0)\n",
    "cv.destroyAllWindows()\n",
    "cv.waitKey(1)"
   ]
  },
  {
   "cell_type": "markdown",
   "id": "12551862",
   "metadata": {},
   "source": [
    "## 6-2. 이미지 회전(아핀 변환)\n",
    "- 이미지를 이동, 회전, 크기 조정, 반사, 기울이기(뒤틀기)와 같은 변환을 수학적으로 처리하는 방법"
   ]
  },
  {
   "cell_type": "code",
   "execution_count": null,
   "id": "6b265275",
   "metadata": {},
   "outputs": [
    {
     "data": {
      "text/plain": [
       "-1"
      ]
     },
     "execution_count": 3,
     "metadata": {},
     "output_type": "execute_result"
    }
   ],
   "source": [
    "# 아핀 변환(math 모듈로 직접 구현)\n",
    "import math\n",
    "\n",
    "img = cv.imread(DOG_PATH)\n",
    "\n",
    "rad = 45 * math.pi / 180\n",
    "affine = np.array([[math.cos(rad), -math.sin(rad), 0], [math.sin(rad), math.cos(rad), 0]])\n",
    "scale = (img.shape[1], img.shape[0])\n",
    "\n",
    "dst = cv.warpAffine(img, affine, scale)\n",
    "\n",
    "cv.imshow(\"img\", img)\n",
    "cv.imshow(\"rotate\", dst)\n",
    "\n",
    "cv.waitKey(0)\n",
    "cv.destroyAllWindows()\n",
    "cv.waitKey(1)"
   ]
  },
  {
   "cell_type": "code",
   "execution_count": 4,
   "id": "3f57d631",
   "metadata": {},
   "outputs": [
    {
     "data": {
      "text/plain": [
       "-1"
      ]
     },
     "execution_count": 4,
     "metadata": {},
     "output_type": "execute_result"
    }
   ],
   "source": [
    "# 아핀 변환(getRotationMatrix2D 이용)\n",
    "\n",
    "img = cv.imread(DOG_PATH)\n",
    "\n",
    "center = (int(img.shape[1]/2), int(img.shape[0]/2))\n",
    "scale = (img.shape[1], img.shape[0])\n",
    "affine = cv.getRotationMatrix2D(center, 45, 1)\n",
    "\n",
    "dst = cv.warpAffine(img, affine, scale)\n",
    "\n",
    "cv.imshow(\"img\", img)\n",
    "cv.imshow(\"rotate\", dst)\n",
    "\n",
    "cv.waitKey(0)\n",
    "cv.destroyAllWindows()\n",
    "cv.waitKey(1)"
   ]
  },
  {
   "cell_type": "code",
   "execution_count": 7,
   "id": "be865bbe",
   "metadata": {},
   "outputs": [
    {
     "data": {
      "text/plain": [
       "-1"
      ]
     },
     "execution_count": 7,
     "metadata": {},
     "output_type": "execute_result"
    }
   ],
   "source": [
    "# 트략바와 함께 사용\n",
    "\n",
    "img = cv.imread(DOG_PATH)\n",
    "\n",
    "name = \"Rotation\"\n",
    "cv.namedWindow(name)\n",
    "\n",
    "trackbar_name = \"Angle\"\n",
    "cv.createTrackbar(trackbar_name, name, 0, 360, lambda x:x)\n",
    "\n",
    "while True:\n",
    "    angle = cv.getTrackbarPos(trackbar_name, name)\n",
    "    center = (int(img.shape[1]/2), int(img.shape[0]/2))\n",
    "    scale = (img.shape[1], img.shape[0])\n",
    "    affine = cv.getRotationMatrix2D(center, angle, 0.5)\n",
    "    dst = cv.warpAffine(img, affine, scale)\n",
    "\n",
    "    cv.imshow(name, dst)\n",
    "\n",
    "    if cv.waitKey(0) == ord(\"q\"):\n",
    "        break\n",
    "\n",
    "cv.destroyAllWindows()\n",
    "cv.waitKey(1)"
   ]
  },
  {
   "cell_type": "markdown",
   "id": "4fdf56b2",
   "metadata": {},
   "source": [
    "## 6-3. 원근 변환\n",
    "- 원근법의 원리를 이용해 이미지에서 특정 부분의 기하학적 왜곡을 수정하거나 시점을 변경하는 것\n",
    "- ```cv2.getPerspectiveTransform(src, dst) -> mat```\n",
    "- ```cv2.warpPerspective(img, mat, (width, height))```"
   ]
  },
  {
   "cell_type": "code",
   "execution_count": 9,
   "id": "a0cd985b",
   "metadata": {},
   "outputs": [
    {
     "data": {
      "text/plain": [
       "-1"
      ]
     },
     "execution_count": 9,
     "metadata": {},
     "output_type": "execute_result"
    }
   ],
   "source": [
    "img = cv.imread(CARD_PATH)\n",
    "\n",
    "width, height = 600, 350\n",
    "\n",
    "# 원근을 변형할 지점 선택 : 시계 방향\n",
    "src = np.array([[54,261], [981,128], [1213,560], [194,735]], dtype=np.float32)\n",
    "\n",
    "# 결과물을 출력할 형태 : 시계 방향\n",
    "dst = np.array([[0,0], [width,0], [width,height], [0,height]], dtype=np.float32)\n",
    "\n",
    "# 원근을 변형하기 위한 Matrix 생성\n",
    "mat = cv.getPerspectiveTransform(src, dst)\n",
    "\n",
    "# img를 mat에 의해 변환\n",
    "result = cv.warpPerspective(img, mat, (width, height))\n",
    "\n",
    "cv.imshow(\"img\", img)\n",
    "cv.imshow(\"warped\", result)\n",
    "\n",
    "cv.waitKey(0)\n",
    "cv.destroyAllWindows()\n",
    "cv.waitKey(1)"
   ]
  }
 ],
 "metadata": {
  "kernelspec": {
   "display_name": "cv_study",
   "language": "python",
   "name": "python3"
  },
  "language_info": {
   "codemirror_mode": {
    "name": "ipython",
    "version": 3
   },
   "file_extension": ".py",
   "mimetype": "text/x-python",
   "name": "python",
   "nbconvert_exporter": "python",
   "pygments_lexer": "ipython3",
   "version": "3.13.7"
  }
 },
 "nbformat": 4,
 "nbformat_minor": 5
}
