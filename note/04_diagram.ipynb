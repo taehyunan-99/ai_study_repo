{
 "cells": [
  {
   "cell_type": "markdown",
   "id": "2865a87e",
   "metadata": {},
   "source": [
    "# 04. 도형 그리기"
   ]
  },
  {
   "cell_type": "code",
   "execution_count": null,
   "id": "8079530b",
   "metadata": {},
   "outputs": [],
   "source": [
    "import cv2 as cv\n",
    "import numpy as np\n",
    "from PIL import Image, ImageDraw, ImageFont"
   ]
  },
  {
   "cell_type": "markdown",
   "id": "cb34e332",
   "metadata": {},
   "source": [
    "## 4-1. 선 그리기\n",
    "- ```cv2.line(img, start, end, color, thickness, lineType)```"
   ]
  },
  {
   "cell_type": "code",
   "execution_count": null,
   "id": "baa5ba94",
   "metadata": {},
   "outputs": [],
   "source": [
    "img = np.zeros((460, 640, 3), dtype=np.uint8)\n",
    "\n",
    "COLOR = (0,255,255)\n",
    "THICKNESS = 5\n",
    "\n",
    "cv.line(img, (100,100), (300,300), COLOR, THICKNESS, cv.LINE_4)\n",
    "cv.line(img, (150,100), (350,300), COLOR, THICKNESS, cv.LINE_8)\n",
    "cv.line(img, (200,100), (400,300), COLOR, THICKNESS, cv.LINE_AA)\n",
    "\n",
    "cv.imshow(\"Line\", img)\n",
    "\n",
    "cv.waitKey(0)\n",
    "cv.destroyAllWindows()\n",
    "cv.waitKey(1)"
   ]
  },
  {
   "cell_type": "markdown",
   "id": "7f19aeac",
   "metadata": {},
   "source": [
    "## 4-2. 원 그리기\n",
    "- ```cv2.circle(img, center, radius, color, thickness, lineType)```\n",
    "- ```cv2.FILLED``` : 도형의 속을 채우는 옵션, thickness 위치에 적용"
   ]
  },
  {
   "cell_type": "code",
   "execution_count": null,
   "id": "b0b501e1",
   "metadata": {},
   "outputs": [],
   "source": [
    "img = np.zeros((460, 640, 3), dtype=np.uint8)\n",
    "\n",
    "RADIUS = 50\n",
    "COLOR = (255,0,0)\n",
    "THICKNESS = 10\n",
    "\n",
    "# 속이 비어있는 원\n",
    "cv.circle(img, (200, 200), RADIUS, COLOR, THICKNESS, cv.LINE_AA)\n",
    "\n",
    "# 속이 채워진 원\n",
    "cv.circle(img, (400, 200), RADIUS, COLOR, cv.FILLED, cv.LINE_AA)\n",
    "\n",
    "cv.imshow(\"Circle\", img)\n",
    "\n",
    "cv.waitKey(0)\n",
    "cv.destroyAllWindows()\n",
    "cv.waitKey(1)"
   ]
  },
  {
   "cell_type": "markdown",
   "id": "355cb844",
   "metadata": {},
   "source": [
    "## 4-3. 타원 그리기\n",
    "- ```cv2.ellipse(img, center, axes, angle, startAngle, endAngle, color, thickness, lineType)```"
   ]
  },
  {
   "cell_type": "code",
   "execution_count": null,
   "id": "c9f294f5",
   "metadata": {},
   "outputs": [],
   "source": [
    "img = np.zeros((460, 640, 3), dtype=np.uint8)\n",
    "\n",
    "COLOR = (255,0,0)\n",
    "THICKNESS = 10\n",
    "\n",
    "cv.ellipse(img, (320, 230), (100, 50), 30, 0, 270, COLOR, THICKNESS, cv.LINE_AA)\n",
    "\n",
    "cv.imshow(\"Ellipse\", img)\n",
    "\n",
    "cv.waitKey(0)\n",
    "cv.destroyAllWindows()\n",
    "cv.waitKey(1)"
   ]
  },
  {
   "cell_type": "markdown",
   "id": "47adc53a",
   "metadata": {},
   "source": [
    "## 4-4. 사각형 그리기\n",
    "- ```cv2.rectangle(img, start, end, color, thickness, lineType)```"
   ]
  },
  {
   "cell_type": "code",
   "execution_count": null,
   "id": "c98b85e2",
   "metadata": {},
   "outputs": [],
   "source": [
    "img = np.zeros((460, 640, 3), dtype=np.uint8)\n",
    "\n",
    "COLOR = (255,0,0)\n",
    "THICKNESS = 5\n",
    "\n",
    "# 속이 비어있는 사각형\n",
    "cv.rectangle(img, (150, 100), (250, 200), COLOR, THICKNESS, cv.LINE_AA)\n",
    "# 속이 채워진 사각형\n",
    "cv.rectangle(img, (300, 100), (400, 200), COLOR, cv.FILLED, cv.LINE_AA)\n",
    "\n",
    "cv.imshow(\"Rectangle\", img)\n",
    "\n",
    "cv.waitKey(0)\n",
    "cv.destroyAllWindows()\n",
    "cv.waitKey(1)"
   ]
  },
  {
   "cell_type": "markdown",
   "id": "c8e55178",
   "metadata": {},
   "source": [
    "## 4-5. 다각형(선) 그리기\n",
    "- ```cv2.polylines(img, pts, isClosed, color, thickness, lineType)```\n",
    "    - pts : 다각형 선분의 배열(Numpy 배열)\n",
    "    - isClosed : 다각형을 닫을지를 결정"
   ]
  },
  {
   "cell_type": "code",
   "execution_count": null,
   "id": "d0b47c6c",
   "metadata": {},
   "outputs": [],
   "source": [
    "img = np.zeros((460, 640, 3), dtype=np.uint8)\n",
    "\n",
    "pts = np.array([[[100,100], [200,100], [300,200], [200,400], [100,200]]])\n",
    "COLOR = (255,255,255)\n",
    "THICKNESS = 10\n",
    "\n",
    "cv.polylines(img, pts, True, COLOR, THICKNESS)\n",
    "\n",
    "cv.imshow(\"Poltlines\", img)\n",
    "\n",
    "cv.waitKey(0)\n",
    "cv.destroyAllWindows()\n",
    "cv.waitKey(1)"
   ]
  },
  {
   "cell_type": "markdown",
   "id": "407ee507",
   "metadata": {},
   "source": [
    "## 4-6. 다각형(채우기) 그리기\n",
    "- ```cv2.fillpoly(img, pts, color)```"
   ]
  },
  {
   "cell_type": "code",
   "execution_count": null,
   "id": "3fb1bf35",
   "metadata": {},
   "outputs": [],
   "source": [
    "img = np.zeros((460, 640, 3), dtype=np.uint8)\n",
    "\n",
    "pts = np.array([[ [200,200], [300,200], [200,300] ]])\n",
    "COLOR = (255,255,255)\n",
    "\n",
    "cv.fillPoly(img, pts, COLOR)\n",
    "\n",
    "cv.imshow(\"FillPoly\", img)\n",
    "\n",
    "cv.waitKey(0)\n",
    "cv.destroyAllWindows()\n",
    "cv.waitKey(1)"
   ]
  },
  {
   "cell_type": "code",
   "execution_count": null,
   "id": "98836f91",
   "metadata": {},
   "outputs": [],
   "source": [
    "# 실습1. 도형 그려보기\n",
    "\n",
    "img = np.zeros((460, 640, 3), dtype=np.uint8)\n",
    "\n",
    "pts1 = np.array([[[500,50], [600,50], [600,100]]])\n",
    "pts2 = np.array([[[500,200], [600,200], [600,400]]])\n",
    "\n",
    "cv.line(img, (50,100), (50,400), (3,186,252), 5, cv.LINE_AA)\n",
    "cv.circle(img, (100,230), 30, (3,252,219), 5, cv.LINE_AA)\n",
    "cv.ellipse(img, (250,230), (80,50), 30, 0, 180, (140,252,3), 5, cv.LINE_AA)\n",
    "cv.rectangle(img, (350,200), (450,300), (252,144,3), 5, cv.LINE_AA)\n",
    "cv.polylines(img, pts1, True, (255,255,255), 5, cv.LINE_AA)\n",
    "cv.fillPoly(img, pts2, (255,3,102))\n",
    "\n",
    "cv.imshow(\"Practice\", img)\n",
    "\n",
    "cv.waitKey(0)\n",
    "cv.destroyAllWindows()\n",
    "cv.waitKey(1)"
   ]
  },
  {
   "cell_type": "markdown",
   "id": "50bf50d0",
   "metadata": {},
   "source": [
    "## 4-7. 텍스트 그리기(영어)\n",
    "- ```cv2.putText(img, text, position, font, scale, color, thickness)```"
   ]
  },
  {
   "cell_type": "code",
   "execution_count": null,
   "id": "c4e761d1",
   "metadata": {},
   "outputs": [],
   "source": [
    "img = np.zeros((460, 640, 3), dtype=np.uint8)\n",
    "\n",
    "SCALE = 1\n",
    "THICKNESS = 2\n",
    "COLOR = (255,255,255)\n",
    "\n",
    "cv.putText(img, \"Hello World!\", (220,200), cv.FONT_HERSHEY_DUPLEX, SCALE, COLOR, THICKNESS)\n",
    "cv.putText(img, \"OpenCV Study\", (200,260), cv.FONT_HERSHEY_COMPLEX | cv.FONT_ITALIC, SCALE, COLOR, THICKNESS)\n",
    "\n",
    "cv.imshow(\"Text\", img)\n",
    "\n",
    "cv.waitKey(0)\n",
    "cv.destroyAllWindows()\n",
    "cv.waitKey(1)"
   ]
  },
  {
   "cell_type": "markdown",
   "id": "2c58f929",
   "metadata": {},
   "source": [
    "# 4-8. 텍스트 그리기(한글)\n",
    "- OpenCV 에서는 한글 텍스트 그리기 지원 X -> 우회적 방법 사용\n",
    "- pip install pillow"
   ]
  },
  {
   "cell_type": "code",
   "execution_count": 10,
   "id": "3728db26",
   "metadata": {},
   "outputs": [
    {
     "data": {
      "text/plain": [
       "-1"
      ]
     },
     "execution_count": 10,
     "metadata": {},
     "output_type": "execute_result"
    }
   ],
   "source": [
    "from PIL import Image, ImageDraw, ImageFont\n",
    "\n",
    "img = np.zeros((460, 640, 3), dtype=np.uint8)\n",
    "\n",
    "def putKorText(img, text, position, font_size, font_color):\n",
    "    img_pil = Image.fromarray(img)\n",
    "    draw = ImageDraw.Draw(img_pil)\n",
    "    font = ImageFont.truetype(\"/System/Library/Fonts/AppleSDGothicNeo.ttc\", font_size)\n",
    "    draw.text(position, text, font=font, fill=font_color)\n",
    "    return np.array(img_pil)\n",
    "\n",
    "text = putKorText(img, \"안녕하세요\", (220,300), 30, (255,255,255))\n",
    "\n",
    "cv.imshow(\"KOR\", text)\n",
    "\n",
    "cv.waitKey(0)\n",
    "cv.destroyAllWindows()\n",
    "cv.waitKey(1)"
   ]
  }
 ],
 "metadata": {
  "kernelspec": {
   "display_name": "cv_study",
   "language": "python",
   "name": "python3"
  },
  "language_info": {
   "codemirror_mode": {
    "name": "ipython",
    "version": 3
   },
   "file_extension": ".py",
   "mimetype": "text/x-python",
   "name": "python",
   "nbconvert_exporter": "python",
   "pygments_lexer": "ipython3",
   "version": "3.13.7"
  }
 },
 "nbformat": 4,
 "nbformat_minor": 5
}
