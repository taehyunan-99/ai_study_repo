{
 "cells": [
  {
   "cell_type": "markdown",
   "id": "ca672ebf",
   "metadata": {},
   "source": [
    "# 07. 경계선 검출\n",
    "- 경계선(edge) : 이미지에서 색이 갑자기 바뀌는 지점을 연결한 것(경계)\n",
    "- ```cv2.Canny(img, threshold1, threshold2)```\n",
    "    - ```threshold1``` : 약한 경계 임계값\n",
    "    - ```threshold2``` : 강한 경계 임계값\n",
    "\n",
    "## 경계선 검출 과정\n",
    "1. 이미지를 그레이 스케일로 변환\n",
    "2. 블러 처리 등을 통해 노이즈를 제거\n",
    "3. Canny 알고리즘을 적용"
   ]
  },
  {
   "cell_type": "code",
   "execution_count": null,
   "id": "ed100861",
   "metadata": {},
   "outputs": [],
   "source": [
    "import cv2 as cv\n",
    "import numpy as np\n",
    "MOUNTAIN_PATH = \"../images/mountain.jpg\""
   ]
  },
  {
   "cell_type": "markdown",
   "id": "7aa47078",
   "metadata": {},
   "source": [
    "## 7-1. 기본 구현"
   ]
  },
  {
   "cell_type": "code",
   "execution_count": null,
   "id": "3162ff1d",
   "metadata": {},
   "outputs": [],
   "source": [
    "img = cv.imread(MOUNTAIN_PATH, cv.IMREAD_GRAYSCALE)\n",
    "canny = cv.Canny(img, 50, 150)\n",
    "\n",
    "cv.imshow(\"img\", img)\n",
    "cv.imshow(\"canny\", canny)\n",
    "\n",
    "cv.waitKey(0)\n",
    "cv.destroyAllWindows()\n",
    "cv.waitKey(1)"
   ]
  },
  {
   "cell_type": "markdown",
   "id": "b27b8ee3",
   "metadata": {},
   "source": [
    "## 7-2. 트랙바를 이용한 구현"
   ]
  },
  {
   "cell_type": "code",
   "execution_count": null,
   "id": "cc16bfce",
   "metadata": {},
   "outputs": [],
   "source": [
    "img = cv.imread(MOUNTAIN_PATH, cv.IMREAD_GRAYSCALE)\n",
    "\n",
    "name = \"Canny\"\n",
    "cv.namedWindow(name)\n",
    "\n",
    "cv.createTrackbar(\"threshold1\", name, 50, 255, lambda x:x)\n",
    "cv.createTrackbar(\"threshold2\", name, 150, 255, lambda x:x)\n",
    "\n",
    "while True:\n",
    "    threshold1 = cv.getTrackbarPos(\"threshold1\", name)\n",
    "    threshold2 = cv.getTrackbarPos(\"threshold2\", name)\n",
    "\n",
    "    canny = cv.Canny(img, threshold1, threshold2)\n",
    "\n",
    "    cv.imshow(name, canny)\n",
    "\n",
    "    if cv.waitKey(1) == ord(\"q\"):\n",
    "        break\n",
    "\n",
    "cv.destroyAllWindows()\n",
    "cv.waitKey(1)"
   ]
  },
  {
   "cell_type": "code",
   "execution_count": null,
   "id": "89a5d17c",
   "metadata": {},
   "outputs": [],
   "source": [
    "# 실습3. 캠 화면에 검출\n",
    "\n",
    "cap = cv.VideoCapture(0)\n",
    "\n",
    "name = \"Canny\"\n",
    "cv.namedWindow(name)\n",
    "\n",
    "cv.createTrackbar(\"threshold1\", name, 50, 255, lambda x:x)\n",
    "cv.createTrackbar(\"threshold2\", name, 150, 255, lambda x:x)\n",
    "\n",
    "while cap.isOpened():\n",
    "    ret, frame = cap.read()\n",
    "\n",
    "    if not ret:\n",
    "        break\n",
    "\n",
    "    threshold1 = cv.getTrackbarPos(\"threshold1\", name)\n",
    "    threshold2 = cv.getTrackbarPos(\"threshold2\", name)\n",
    "\n",
    "    gray = cv.cvtColor(frame, cv.COLOR_BGR2GRAY)\n",
    "    canny = cv.Canny(gray, threshold1, threshold2)\n",
    "\n",
    "    cv.imshow(name, canny)\n",
    "\n",
    "    if cv.waitKey(1) == ord(\"q\"):\n",
    "        break\n",
    "\n",
    "cap.release()\n",
    "cv.destroyAllWindows()\n",
    "cv.waitKey(1)"
   ]
  },
  {
   "cell_type": "code",
   "execution_count": 5,
   "id": "20d5e3f8",
   "metadata": {},
   "outputs": [
    {
     "data": {
      "text/plain": [
       "-1"
      ]
     },
     "execution_count": 5,
     "metadata": {},
     "output_type": "execute_result"
    }
   ],
   "source": [
    "img = cv.imread(\"../images/dog.jpg\", cv.IMREAD_GRAYSCALE)\n",
    "\n",
    "blur = cv.GaussianBlur(img, (5,5), 0)\n",
    "\n",
    "canny = cv.Canny(img, 50, 150)\n",
    "canny_blur = cv.Canny(blur, 50, 150)\n",
    "\n",
    "cv.imshow(\"img\", canny)\n",
    "cv.imshow(\"blur\", canny_blur)\n",
    "\n",
    "cv.waitKey(0)\n",
    "cv.destroyAllWindows()\n",
    "cv.waitKey(1)"
   ]
  }
 ],
 "metadata": {
  "kernelspec": {
   "display_name": "cv_study",
   "language": "python",
   "name": "python3"
  },
  "language_info": {
   "codemirror_mode": {
    "name": "ipython",
    "version": 3
   },
   "file_extension": ".py",
   "mimetype": "text/x-python",
   "name": "python",
   "nbconvert_exporter": "python",
   "pygments_lexer": "ipython3",
   "version": "3.13.5"
  }
 },
 "nbformat": 4,
 "nbformat_minor": 5
}
